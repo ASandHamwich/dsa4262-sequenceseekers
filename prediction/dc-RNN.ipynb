{
 "cells": [
  {
   "cell_type": "code",
   "execution_count": 4,
   "id": "023b27fd-c426-4799-af9e-3c629a3d9127",
   "metadata": {},
   "outputs": [],
   "source": [
    "import pandas as pd\n",
    "import numpy as np\n",
    "import tensorflow as tf\n",
    "from sklearn.preprocessing import StandardScaler\n",
    "from sklearn.utils.class_weight import compute_class_weight\n",
    "from tensorflow.keras.models import Model\n",
    "from tensorflow.keras.layers import Input, Embedding, LSTM, Dense, Dropout, Concatenate\n",
    "from tensorflow.keras.preprocessing.sequence import pad_sequences\n",
    "from sklearn.model_selection import train_test_split\n",
    "from sklearn.metrics import roc_auc_score, average_precision_score, roc_curve, precision_recall_curve\n",
    "import random\n",
    "from sklearn.utils import class_weight\n",
    "import matplotlib.pyplot as plt\n",
    "from sklearn.metrics import (\n",
    "    roc_auc_score, average_precision_score, roc_curve, precision_recall_curve,\n",
    "    precision_score, recall_score, f1_score\n",
    ")\n",
    "\n",
    "\n",
    "random.seed(21)\n",
    "np.random.seed(21)\n",
    "tf.random.set_seed(21)\n",
    "\n",
    "\n"
   ]
  },
  {
   "cell_type": "code",
   "execution_count": 5,
   "id": "493d3563-03ef-445c-bfd2-8af344ce1490",
   "metadata": {},
   "outputs": [
    {
     "name": "stdout",
     "output_type": "stream",
     "text": [
      "Num GPUs Available:  0\n"
     ]
    }
   ],
   "source": [
    "import tensorflow as tf\n",
    "print(\"Num GPUs Available: \", len(tf.config.list_physical_devices('GPU')))\n"
   ]
  },
  {
   "cell_type": "markdown",
   "id": "5cf3862a-4d78-4500-b663-02f67cf2e355",
   "metadata": {},
   "source": [
    "# Data Preprocessing"
   ]
  },
  {
   "cell_type": "code",
   "execution_count": 6,
   "id": "caa1bde2-d7fa-4ec1-9c22-e9c11cb79f31",
   "metadata": {},
   "outputs": [],
   "source": [
    "# Load your DataFrame\n",
    "df = pd.read_csv('parsed_data_final.csv')"
   ]
  },
  {
   "cell_type": "code",
   "execution_count": 7,
   "id": "953d4d81-39c6-4fe3-8601-b368cb05b860",
   "metadata": {},
   "outputs": [
    {
     "name": "stdout",
     "output_type": "stream",
     "text": [
      "   Unnamed: 0          Gene ID    Transcript ID  Position Nucleotide 1  \\\n",
      "0           0  ENSG00000004059  ENST00000000233       244        AAGAC   \n",
      "1           1  ENSG00000004059  ENST00000000233       261        CAAAC   \n",
      "2           2  ENSG00000004059  ENST00000000233       316        GAAAC   \n",
      "3           3  ENSG00000004059  ENST00000000233       332        AGAAC   \n",
      "4           4  ENSG00000004059  ENST00000000233       368        AGGAC   \n",
      "\n",
      "  Nucleotide 2 Nucleotide 3  N1 Length Avg  N1 Length Median  N1 Length Min  \\\n",
      "0        AGACC        GACCA       0.008264           0.00697        0.00199   \n",
      "1        AAACT        AACTG       0.006609           0.00564        0.00199   \n",
      "2        AAACA        AACAG       0.007570           0.00631        0.00232   \n",
      "3        GAACA        AACAT       0.010620           0.00902        0.00232   \n",
      "4        GGACA        GACAA       0.010701           0.00896        0.00199   \n",
      "\n",
      "   ...  N3 Length Max  N3 SD Avg  N3 SD Median  N3 SD Min  N3 SD Max  \\\n",
      "0  ...         0.0329   4.386989         3.440      0.773      15.50   \n",
      "1  ...         0.0262   3.016599         2.660      0.715      14.10   \n",
      "2  ...         0.0266   2.087146         1.910      0.630       6.85   \n",
      "3  ...         0.0214   2.236520         2.135      0.884       6.49   \n",
      "4  ...         0.0485   4.260253         4.160      1.040       8.81   \n",
      "\n",
      "   N3 Mean Avg  N3 Mean Median  N3 Mean Min  N3 Mean Max  Label  \n",
      "0    80.570270            80.5         73.1         88.3      0  \n",
      "1    94.290698            94.1         88.6        103.0      0  \n",
      "2    89.364324            89.2         84.4         96.2      0  \n",
      "3    89.154000            89.9         81.4         95.7      0  \n",
      "4    85.178788            85.4         77.6         90.5      0  \n",
      "\n",
      "[5 rows x 44 columns]\n"
     ]
    }
   ],
   "source": [
    "print(df.head())"
   ]
  },
  {
   "cell_type": "code",
   "execution_count": 8,
   "id": "bb1b91ae-7a0a-48f0-9601-23bba6ca3543",
   "metadata": {},
   "outputs": [],
   "source": [
    "# Concatenate sequences\n",
    "df['sequence'] = df['Nucleotide 1'] + df['Nucleotide 2'] + df['Nucleotide 3']\n",
    "\n",
    "# Map nucleotides to integers\n",
    "nucleotide_to_int = {'A': 0, 'C': 1, 'G': 2, 'T': 3, 'PAD': 4}"
   ]
  },
  {
   "cell_type": "code",
   "execution_count": 9,
   "id": "25df4f62-339f-433f-8f2a-673001f45b1c",
   "metadata": {},
   "outputs": [],
   "source": [
    "# Encode sequences"
   ]
  },
  {
   "cell_type": "code",
   "execution_count": 10,
   "id": "4fa54b3c-be9e-48b9-bcf3-3c25fc39ce0e",
   "metadata": {},
   "outputs": [],
   "source": [
    "def encode_sequence(seq, mapping):\n",
    "    return [mapping[nuc] for nuc in seq]\n",
    "\n",
    "df['encoded_sequence'] = df['sequence'].apply(lambda x: encode_sequence(x, nucleotide_to_int))\n",
    "\n",
    "# Pad sequences\n",
    "max_sequence_length = df['encoded_sequence'].apply(len).max()\n",
    "df['padded_sequence'] = list(pad_sequences(df['encoded_sequence'], maxlen=max_sequence_length, padding='post', value=nucleotide_to_int['PAD']))\n",
    "\n",
    "# Prepare numerical features\n",
    "exclude_cols = ['Gene ID', 'Transcript ID', 'Position', 'Nucleotide 1', 'Nucleotide 2', 'Nucleotide 3', 'sequence', 'encoded_sequence', 'padded_sequence', 'Label']\n",
    "numerical_cols = [col for col in df.columns if col not in exclude_cols]\n",
    "\n",
    "# Normalize numerical features\n",
    "scaler = StandardScaler()\n",
    "df[numerical_cols] = scaler.fit_transform(df[numerical_cols])\n",
    "\n"
   ]
  },
  {
   "cell_type": "markdown",
   "id": "9cf58403-3d60-4bdb-8910-63c658a232c8",
   "metadata": {},
   "source": [
    "# Split into training and testing sets"
   ]
  },
  {
   "cell_type": "code",
   "execution_count": 11,
   "id": "e3d6b76f-a218-4136-aed5-421f19083101",
   "metadata": {},
   "outputs": [],
   "source": [
    "train_df, test_df = train_test_split(df, test_size=0.3, random_state=21)\n",
    "\n",
    "\n",
    "\n"
   ]
  },
  {
   "cell_type": "markdown",
   "id": "6e2f311d-e688-4dcd-bced-dc861bc5699f",
   "metadata": {},
   "source": [
    "# Balancing"
   ]
  },
  {
   "cell_type": "code",
   "execution_count": 12,
   "id": "d60c233c-72f9-4162-83be-5ceda20a4acb",
   "metadata": {},
   "outputs": [
    {
     "name": "stdout",
     "output_type": "stream",
     "text": [
      "Number of minority samples in training data: 3867\n",
      "Number of majority samples in training data: 81419\n",
      "Class distribution after adjusted oversampling:\n",
      "Label\n",
      "0    81419\n",
      "1    40709\n",
      "Name: count, dtype: int64\n"
     ]
    }
   ],
   "source": [
    "# Handle class imbalance on the training data\n",
    "train_data = train_df.copy()\n",
    "\n",
    "# Separate minority and majority classes in training data\n",
    "minority_class = train_data[train_data['Label'] == 1]\n",
    "majority_class = train_data[train_data['Label'] == 0]\n",
    "\n",
    "# Count samples in each class\n",
    "num_minority = len(minority_class)\n",
    "num_majority = len(majority_class)\n",
    "\n",
    "print(f'Number of minority samples in training data: {num_minority}')\n",
    "print(f'Number of majority samples in training data: {num_majority}')\n",
    "\n",
    "# Calculate desired number of minority samples for 1:2 ratio\n",
    "desired_minority_count = int(num_majority / 2)\n",
    "\n",
    "# Oversample the minority class\n",
    "minority_oversampled = minority_class.sample(\n",
    "    n=desired_minority_count,\n",
    "    replace=True,\n",
    "    random_state=42\n",
    ")\n",
    "\n",
    "# Combine oversampled minority class with majority class\n",
    "train_balanced = pd.concat([majority_class, minority_oversampled], ignore_index=True)\n",
    "\n",
    "# Shuffle the training data\n",
    "train_balanced = train_balanced.sample(frac=1, random_state=42).reset_index(drop=True)\n",
    "\n",
    "# Check class distribution after oversampling\n",
    "print('Class distribution after adjusted oversampling:')\n",
    "print(train_balanced['Label'].value_counts())"
   ]
  },
  {
   "cell_type": "code",
   "execution_count": 13,
   "id": "e5cc2e33-4246-4eef-a587-7d4a4037a07a",
   "metadata": {},
   "outputs": [],
   "source": [
    "# Prepare inputs from the balanced training data\n",
    "X_seq_train = np.stack(train_balanced['padded_sequence'].values)\n",
    "X_num_train = train_balanced[numerical_cols].values\n",
    "y_train = train_balanced['Label'].values\n",
    "\n",
    "# Prepare inputs from the test data (unchanged)\n",
    "X_seq_test = np.stack(test_df['padded_sequence'].values)\n",
    "X_num_test = test_df[numerical_cols].values\n",
    "y_test = test_df['Label'].values\n",
    "\n",
    "# Normalize numerical features using training data statistics\n",
    "scaler = StandardScaler()\n",
    "X_num_train = scaler.fit_transform(X_num_train)\n",
    "X_num_test = scaler.transform(X_num_test)\n"
   ]
  },
  {
   "cell_type": "markdown",
   "id": "8f68d705-c569-4c97-ae03-1ab55c62a0e6",
   "metadata": {},
   "source": [
    "# Compute class weights"
   ]
  },
  {
   "cell_type": "code",
   "execution_count": 14,
   "id": "072e3ae5-d5d8-4b41-976a-ba9d39b691de",
   "metadata": {},
   "outputs": [],
   "source": [
    "class_weights = class_weight.compute_class_weight(\n",
    "    class_weight='balanced',\n",
    "    classes=np.unique(y_train),\n",
    "    y=y_train\n",
    ")\n",
    "class_weight_dict = dict(enumerate(class_weights))\n",
    "\n"
   ]
  },
  {
   "cell_type": "markdown",
   "id": "7609b726-177d-4885-8d17-3c8805a172fd",
   "metadata": {},
   "source": [
    "# Build the LSTM model"
   ]
  },
  {
   "cell_type": "code",
   "execution_count": 15,
   "id": "5ec4991d-25fc-420b-8b22-30bb921b69e5",
   "metadata": {},
   "outputs": [],
   "source": [
    "# Define embedding dimension\n",
    "embedding_dim = 8\n",
    "\n",
    "# Build your model (e.g., LSTM model)\n",
    "sequence_input = tf.keras.Input(shape=(max_sequence_length,), name='sequence_input')\n",
    "numerical_input = tf.keras.Input(shape=(X_num_train.shape[1],), name='numerical_input')\n",
    "\n",
    "embedding_layer = tf.keras.layers.Embedding(\n",
    "    input_dim=len(nucleotide_to_int),\n",
    "    output_dim=embedding_dim,\n",
    "    input_length=max_sequence_length,\n",
    "    name='embedding_layer'\n",
    ")(sequence_input)\n",
    "\n",
    "lstm_out = tf.keras.layers.LSTM(128)(embedding_layer)\n",
    "\n",
    "combined_features = tf.keras.layers.Concatenate()([lstm_out, numerical_input])\n",
    "\n",
    "x = tf.keras.layers.Dense(64, activation='relu')(combined_features)\n",
    "x = tf.keras.layers.Dropout(0.5)(x)\n",
    "x = tf.keras.layers.Dense(32, activation='relu')(x)\n",
    "x = tf.keras.layers.Dropout(0.5)(x)\n",
    "output = tf.keras.layers.Dense(1, activation='sigmoid')(x)\n",
    "\n",
    "model = tf.keras.Model(inputs=[sequence_input, numerical_input], outputs=output)\n",
    "\n",
    "# Compile the model\n",
    "model.compile(\n",
    "    optimizer=tf.keras.optimizers.Adam(learning_rate=0.001),\n",
    "    loss='binary_crossentropy',\n",
    "    metrics=[\n",
    "        'accuracy',\n",
    "        tf.keras.metrics.AUC(name='roc_auc'),\n",
    "        tf.keras.metrics.AUC(name='pr_auc', curve='PR')\n",
    "    ]\n",
    ")\n",
    "\n",
    "\n"
   ]
  },
  {
   "cell_type": "markdown",
   "id": "aa562c9c-db51-4934-b3b6-f3d4c22c546f",
   "metadata": {},
   "source": [
    "# Train the model"
   ]
  },
  {
   "cell_type": "code",
   "execution_count": 16,
   "id": "ea727338-d54e-44cd-a870-b8ec0fbac219",
   "metadata": {},
   "outputs": [
    {
     "name": "stdout",
     "output_type": "stream",
     "text": [
      "Epoch 1/10\n",
      "3817/3817 [==============================] - 90s 23ms/step - loss: 0.4920 - accuracy: 0.7725 - roc_auc: 0.8460 - pr_auc: 0.7426 - val_loss: 0.4304 - val_accuracy: 0.8311 - val_roc_auc: 0.8927 - val_pr_auc: 0.3936\n",
      "Epoch 2/10\n",
      "3817/3817 [==============================] - 91s 24ms/step - loss: 0.4243 - accuracy: 0.8182 - roc_auc: 0.8890 - pr_auc: 0.8111 - val_loss: 0.3546 - val_accuracy: 0.8552 - val_roc_auc: 0.9030 - val_pr_auc: 0.4259\n",
      "Epoch 3/10\n",
      "3817/3817 [==============================] - 92s 24ms/step - loss: 0.4047 - accuracy: 0.8235 - roc_auc: 0.8999 - pr_auc: 0.8243 - val_loss: 0.3335 - val_accuracy: 0.8679 - val_roc_auc: 0.9014 - val_pr_auc: 0.4340\n",
      "Epoch 4/10\n",
      "3817/3817 [==============================] - 89s 23ms/step - loss: 0.3926 - accuracy: 0.8282 - roc_auc: 0.9059 - pr_auc: 0.8331 - val_loss: 0.3455 - val_accuracy: 0.8547 - val_roc_auc: 0.9054 - val_pr_auc: 0.4420\n",
      "Epoch 5/10\n",
      "3817/3817 [==============================] - 92s 24ms/step - loss: 0.3821 - accuracy: 0.8312 - roc_auc: 0.9109 - pr_auc: 0.8397 - val_loss: 0.3508 - val_accuracy: 0.8404 - val_roc_auc: 0.9087 - val_pr_auc: 0.4460\n",
      "Epoch 6/10\n",
      "3817/3817 [==============================] - 95s 25ms/step - loss: 0.3727 - accuracy: 0.8310 - roc_auc: 0.9151 - pr_auc: 0.8442 - val_loss: 0.3602 - val_accuracy: 0.8297 - val_roc_auc: 0.9073 - val_pr_auc: 0.4442\n",
      "Epoch 7/10\n",
      "3817/3817 [==============================] - 94s 25ms/step - loss: 0.3644 - accuracy: 0.8362 - roc_auc: 0.9189 - pr_auc: 0.8481 - val_loss: 0.3620 - val_accuracy: 0.8271 - val_roc_auc: 0.9073 - val_pr_auc: 0.4460\n",
      "Epoch 8/10\n",
      "3817/3817 [==============================] - 93s 24ms/step - loss: 0.3586 - accuracy: 0.8363 - roc_auc: 0.9212 - pr_auc: 0.8509 - val_loss: 0.3523 - val_accuracy: 0.8278 - val_roc_auc: 0.9078 - val_pr_auc: 0.4493\n",
      "Epoch 9/10\n",
      "3817/3817 [==============================] - 98s 26ms/step - loss: 0.3503 - accuracy: 0.8391 - roc_auc: 0.9246 - pr_auc: 0.8551 - val_loss: 0.3728 - val_accuracy: 0.8181 - val_roc_auc: 0.9053 - val_pr_auc: 0.4427\n",
      "Epoch 10/10\n",
      "3817/3817 [==============================] - 92s 24ms/step - loss: 0.3427 - accuracy: 0.8398 - roc_auc: 0.9275 - pr_auc: 0.8582 - val_loss: 0.3308 - val_accuracy: 0.8391 - val_roc_auc: 0.9080 - val_pr_auc: 0.4451\n"
     ]
    }
   ],
   "source": [
    "history = model.fit(\n",
    "    [X_seq_train, X_num_train],\n",
    "    y_train,\n",
    "    epochs=10,\n",
    "    batch_size=32,\n",
    "    class_weight=class_weight_dict,\n",
    "    validation_data=([X_seq_test, X_num_test], y_test)\n",
    ")\n",
    "\n"
   ]
  },
  {
   "cell_type": "markdown",
   "id": "041a13ea-230a-4646-9262-1dce8c827ed4",
   "metadata": {},
   "source": [
    "# Evaluate the model"
   ]
  },
  {
   "cell_type": "code",
   "execution_count": 17,
   "id": "c65dd52a-6a1b-4473-998f-5b05c92f81e2",
   "metadata": {},
   "outputs": [
    {
     "name": "stdout",
     "output_type": "stream",
     "text": [
      "1143/1143 [==============================] - 11s 10ms/step - loss: 0.3308 - accuracy: 0.8391 - roc_auc: 0.9080 - pr_auc: 0.4451\n",
      "Test Loss: 0.3308161795139313\n",
      "Test Accuracy: 0.8391059041023254\n",
      "Test ROC AUC: 0.9079660773277283\n",
      "Test PR AUC: 0.4450603723526001\n",
      "1143/1143 [==============================] - 12s 10ms/step\n",
      "PR AUC (from scikit-learn): 0.4470811308536371\n"
     ]
    }
   ],
   "source": [
    "# Compile the model with the additional metric\n",
    "\n",
    "# Train the model or recompile if already trained (see above)\n",
    "\n",
    "# Evaluate the model on the test data\n",
    "loss, accuracy, roc_auc_metric, pr_auc_metric = model.evaluate([X_seq_test, X_num_test], y_test)\n",
    "\n",
    "print(f'Test Loss: {loss}')\n",
    "print(f'Test Accuracy: {accuracy}')\n",
    "print(f'Test ROC AUC: {roc_auc_metric}')\n",
    "print(f'Test PR AUC: {pr_auc_metric}')\n",
    "\n",
    "# Obtain predicted probabilities\n",
    "y_pred_proba = model.predict([X_seq_test, X_num_test]).ravel()\n",
    "\n",
    "# Compute additional metrics using scikit-learn\n",
    "from sklearn.metrics import (\n",
    "    precision_score, recall_score, f1_score, average_precision_score,\n",
    "    roc_auc_score, roc_curve, precision_recall_curve\n",
    ")\n",
    "\n",
    "# Compute PR AUC using scikit-learn for comparison\n",
    "pr_auc_sklearn = average_precision_score(y_test, y_pred_proba)\n",
    "\n",
    "print(f'PR AUC (from scikit-learn): {pr_auc_sklearn}')\n",
    "\n",
    "# Continue with plotting ROC and PR curves as before\n"
   ]
  },
  {
   "cell_type": "code",
   "execution_count": 18,
   "id": "3d770bd3-a249-4fba-932d-81d2d6738e71",
   "metadata": {},
   "outputs": [
    {
     "name": "stdout",
     "output_type": "stream",
     "text": [
      "1143/1143 [==============================] - 12s 10ms/step - loss: 0.3308 - accuracy: 0.8391 - roc_auc: 0.9080 - pr_auc: 0.4451\n",
      "Test Loss: 0.3308161795139313\n",
      "Test Accuracy: 0.8391059041023254\n",
      "Test ROC AUC (from model.evaluate): 0.9079660773277283\n",
      "Test PR AUC (from model.evaluate): 0.4450603723526001\n",
      "1143/1143 [==============================] - 10s 9ms/step\n",
      "ROC AUC Score (from sklearn): 0.9085\n",
      "PR AUC Score (Average Precision from sklearn): 0.4471\n"
     ]
    },
    {
     "data": {
      "image/png": "[encoded data removed]",
      "text/plain": [
       "<Figure size 800x600 with 1 Axes>"
      ]
     },
     "metadata": {},
     "output_type": "display_data"
    },
    {
     "data": {
      "image/png": "[encoded data removed]",
      "text/plain": [
       "<Figure size 800x600 with 1 Axes>"
      ]
     },
     "metadata": {},
     "output_type": "display_data"
    }
   ],
   "source": [
    "# Evaluate the model on the test data\n",
    "loss, accuracy, roc_auc_metric, pr_auc_metric = model.evaluate([X_seq_test, X_num_test], y_test)\n",
    "\n",
    "print(f'Test Loss: {loss}')\n",
    "print(f'Test Accuracy: {accuracy}')\n",
    "print(f'Test ROC AUC (from model.evaluate): {roc_auc_metric}')\n",
    "print(f'Test PR AUC (from model.evaluate): {pr_auc_metric}')\n",
    "\n",
    "# Obtain predicted probabilities\n",
    "y_pred_proba = model.predict([X_seq_test, X_num_test]).ravel()\n",
    "\n",
    "# Compute ROC AUC and PR AUC using scikit-learn\n",
    "\n",
    "\n",
    "roc_auc = roc_auc_score(y_test, y_pred_proba)\n",
    "pr_auc = average_precision_score(y_test, y_pred_proba)\n",
    "\n",
    "print(f'ROC AUC Score (from sklearn): {roc_auc:.4f}')\n",
    "print(f'PR AUC Score (Average Precision from sklearn): {pr_auc:.4f}')\n",
    "\n",
    "# Plot ROC Curve\n",
    "fpr, tpr, _ = roc_curve(y_test, y_pred_proba)\n",
    "plt.figure(figsize=(8,6))\n",
    "plt.plot(fpr, tpr, label=f'ROC Curve (AUC = {roc_auc:.2f})', color='darkorange', linewidth=2)\n",
    "plt.plot([0, 1], [0, 1], color='navy', linestyle='--')\n",
    "plt.xlabel('False Positive Rate')\n",
    "plt.ylabel('True Positive Rate')\n",
    "plt.title('Receiver Operating Characteristic (ROC) Curve')\n",
    "plt.legend(loc='lower right')\n",
    "plt.grid(True)\n",
    "plt.show()\n",
    "\n",
    "# Plot Precision-Recall Curve\n",
    "precision, recall, _ = precision_recall_curve(y_test, y_pred_proba)\n",
    "plt.figure(figsize=(8,6))\n",
    "plt.plot(recall, precision, label=f'Precision-Recall Curve (AP = {pr_auc:.2f})', color='blue', linewidth=2)\n",
    "plt.xlabel('Recall')\n",
    "plt.ylabel('Precision')\n",
    "plt.title('Precision-Recall Curve')\n",
    "plt.legend(loc='lower left')\n",
    "plt.grid(True)\n",
    "plt.show()\n"
   ]
  },
  {
   "cell_type": "code",
   "execution_count": null,
   "id": "d0ce6d06-276a-4438-9657-d2967f143d03",
   "metadata": {},
   "outputs": [],
   "source": [
    "    "
   ]
  }
 ],
 "metadata": {
  "kernelspec": {
   "display_name": "Python 3 (ipykernel)",
   "language": "python",
   "name": "python3"
  },
  "language_info": {
   "codemirror_mode": {
    "name": "ipython",
    "version": 3
   },
   "file_extension": ".py",
   "mimetype": "text/x-python",
   "name": "python",
   "nbconvert_exporter": "python",
   "pygments_lexer": "ipython3",
   "version": "3.8.10"
  }
 },
 "nbformat": 4,
 "nbformat_minor": 5
}
