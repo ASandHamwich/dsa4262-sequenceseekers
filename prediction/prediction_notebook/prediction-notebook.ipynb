{
 "cells": [
  {
   "cell_type": "markdown",
   "id": "a9bf371f",
   "metadata": {},
   "source": [
    "# Prediction Notebook"
   ]
  },
  {
   "cell_type": "markdown",
   "id": "5a418b55",
   "metadata": {},
   "source": [
    "## Import"
   ]
  },
  {
   "cell_type": "code",
   "execution_count": 5,
   "id": "16fb8265-e838-4477-a030-d95626ca4101",
   "metadata": {},
   "outputs": [],
   "source": [
    "import os\n",
    "\n",
    "import pandas as pd\n",
    "import numpy as np\n",
    "\n",
    "from tensorflow.keras.models import load_model\n",
    "from tensorflow.keras.preprocessing.sequence import pad_sequences\n",
    "\n",
    "import joblib\n",
    "import matplotlib.pyplot as plt"
   ]
  },
  {
   "cell_type": "code",
   "execution_count": 3,
   "id": "0e6e25c6",
   "metadata": {},
   "outputs": [],
   "source": [
    "data_path = '../SGNex_A549_directRNA_replicate5_run1/clean_data.csv' # <-- Change the path here to the path of your CSV file."
   ]
  },
  {
   "cell_type": "code",
   "execution_count": 4,
   "id": "3c08b65f",
   "metadata": {},
   "outputs": [
    {
     "data": {
      "text/plain": [
       "'../SGNex_A549_directRNA_replicate5_run1'"
      ]
     },
     "execution_count": 4,
     "metadata": {},
     "output_type": "execute_result"
    }
   ],
   "source": [
    "# Output directory \n",
    "output_directory = os.path.dirname(data_path)\n",
    "output_directory"
   ]
  },
  {
   "cell_type": "markdown",
   "id": "d926803c-46c9-46f5-9f16-a4615c2cf990",
   "metadata": {},
   "source": [
    "## Load Prediction Assets"
   ]
  },
  {
   "cell_type": "code",
   "execution_count": 6,
   "id": "77fe72bb-fcdd-45a0-a824-608c22e4043b",
   "metadata": {},
   "outputs": [],
   "source": [
    "model = load_model('../prediction_assets/rnn_model.keras')\n",
    "\n",
    "nucleotide_to_int = {'A': 0, 'C': 1, 'G': 2, 'T': 3, 'PAD': 4}\n",
    "\n",
    "scaler = joblib.load('../prediction_assets/scaler.joblib')\n",
    "\n",
    "with open('../prediction_assets/max_sequence_length.txt', 'r') as f:\n",
    "    max_sequence_length = int(f.read())"
   ]
  },
  {
   "cell_type": "code",
   "execution_count": 7,
   "id": "0d82c01e-e3da-4437-8b5c-e0c1f44a07ee",
   "metadata": {},
   "outputs": [
    {
     "name": "stdout",
     "output_type": "stream",
     "text": [
      "Scaler is fitted.\n"
     ]
    }
   ],
   "source": [
    "if hasattr(scaler, 'mean_'):\n",
    "    print(\"Scaler is fitted.\")\n",
    "else:\n",
    "    print(\"Scaler is not fitted.\")\n"
   ]
  },
  {
   "cell_type": "markdown",
   "id": "270e3c61",
   "metadata": {},
   "source": [
    "## Prediction Functions"
   ]
  },
  {
   "cell_type": "code",
   "execution_count": 8,
   "id": "bd8029f7-ccfb-4ac9-ab28-a430d0668be8",
   "metadata": {},
   "outputs": [],
   "source": [
    "# Encode sequences using the loaded nucleotide mapping\n",
    "def encode_sequence(seq, mapping):\n",
    "    return [mapping.get(nuc, mapping['PAD']) for nuc in seq]\n",
    "\n",
    "\n",
    "def predict_new_data(model, scaler, nucleotide_to_int, max_sequence_length, new_data_path):\n",
    "    # Load new data\n",
    "    new_df = pd.read_csv(new_data_path)\n",
    "\n",
    "    # Preprocessing steps\n",
    "    # Concatenate sequences\n",
    "    new_df['sequence'] = new_df['Nucleotide 1'] + new_df['Nucleotide 3'].str[-2:]\n",
    "    new_df['encoded_sequence'] = new_df['sequence'].apply(lambda x: encode_sequence(x, nucleotide_to_int))\n",
    "    new_df['padded_sequence'] = list(\n",
    "        pad_sequences(\n",
    "            new_df['encoded_sequence'],\n",
    "            maxlen=max_sequence_length,\n",
    "            padding='post',\n",
    "            value=nucleotide_to_int['PAD']\n",
    "        )\n",
    "    )\n",
    "    exclude_cols = [\n",
    "        'Transcript ID', 'Position',\n",
    "        'Nucleotide 1', 'Nucleotide 2', 'Nucleotide 3',\n",
    "        'sequence', 'encoded_sequence', 'padded_sequence'\n",
    "    ]\n",
    "    numerical_cols = [col for col in new_df.columns if col not in exclude_cols]\n",
    "    X_seq_new = np.stack(new_df['padded_sequence'].values)\n",
    "    X_num_new = new_df[numerical_cols].values\n",
    "\n",
    "    # Transform numerical features using the loaded, fitted scaler\n",
    "    X_num_new = scaler.transform(X_num_new)\n",
    "\n",
    "    # Make predictions\n",
    "    y_pred_proba = model.predict([X_seq_new, X_num_new]).ravel()\n",
    "    y_pred_class = (y_pred_proba >= 0.5).astype(int)\n",
    "    new_df['Predicted Probability'] = y_pred_proba\n",
    "    new_df['Predicted Label'] = y_pred_class\n",
    "\n",
    "    return new_df\n"
   ]
  },
  {
   "cell_type": "markdown",
   "id": "999a6871",
   "metadata": {},
   "source": [
    "## Running the Prediction"
   ]
  },
  {
   "cell_type": "code",
   "execution_count": 9,
   "id": "3ea88253-14ac-4dae-b55a-d6603d7d5eab",
   "metadata": {},
   "outputs": [
    {
     "name": "stdout",
     "output_type": "stream",
     "text": [
      "31530/31530 [==============================] - 119s 4ms/step\n"
     ]
    }
   ],
   "source": [
    "# Usage\n",
    "predictions = predict_new_data(\n",
    "    model=model,\n",
    "    scaler=scaler,\n",
    "    nucleotide_to_int=nucleotide_to_int,\n",
    "    max_sequence_length=max_sequence_length,\n",
    "    new_data_path=data_path\n",
    ")"
   ]
  },
  {
   "cell_type": "markdown",
   "id": "1daf1d20",
   "metadata": {},
   "source": [
    "## Results"
   ]
  },
  {
   "cell_type": "code",
   "execution_count": 10,
   "id": "db537603-ce3a-418a-9e7f-12c9fef4e8fd",
   "metadata": {},
   "outputs": [
    {
     "name": "stdout",
     "output_type": "stream",
     "text": [
      "     Transcript ID  Position Nucleotide 1 Nucleotide 2 Nucleotide 3  \\\n",
      "0  ENST00000418539       108        GAGAC        AGACC        GACCC   \n",
      "1  ENST00000418539       139        AAAAC        AAACA        AACAA   \n",
      "2  ENST00000383898        75        ATGAC        TGACA        GACAC   \n",
      "3  ENST00000610460        78        AGGAC        GGACA        GACAC   \n",
      "4  ENST00000619779        78        AGGAC        GGACA        GACAC   \n",
      "\n",
      "   N1 Length Avg  N1 Length Median  N1 Length Min  N1 Length Max  N1 SD Avg  \\\n",
      "0       0.003320          0.003320       0.003320       0.003320    4.27800   \n",
      "1       0.007970          0.007970       0.007970       0.007970    3.11500   \n",
      "2       0.011290          0.011290       0.011290       0.011290    5.47500   \n",
      "3       0.018260          0.018260       0.018260       0.018260    5.55000   \n",
      "4       0.008844          0.008844       0.008844       0.008844    4.83954   \n",
      "\n",
      "   ...  N3 SD Max  N3 Mean Avg  N3 Mean Median  N3 Mean Min  N3 Mean Max  \\\n",
      "0  ...    5.33200         84.0            84.0         84.0         84.0   \n",
      "1  ...    1.71200         87.2            87.2         87.2         87.2   \n",
      "2  ...    3.41600         82.3            82.3         82.3         82.3   \n",
      "3  ...    3.29322         84.9            84.9         84.9         84.9   \n",
      "4  ...    2.61900         81.2            81.2         81.2         81.2   \n",
      "\n",
      "   sequence       encoded_sequence        padded_sequence  \\\n",
      "0   GAGACCC  [2, 0, 2, 0, 1, 1, 1]  [2, 0, 2, 0, 1, 1, 1]   \n",
      "1   AAAACAA  [0, 0, 0, 0, 1, 0, 0]  [0, 0, 0, 0, 1, 0, 0]   \n",
      "2   ATGACAC  [0, 3, 2, 0, 1, 0, 1]  [0, 3, 2, 0, 1, 0, 1]   \n",
      "3   AGGACAC  [0, 2, 2, 0, 1, 0, 1]  [0, 2, 2, 0, 1, 0, 1]   \n",
      "4   AGGACAC  [0, 2, 2, 0, 1, 0, 1]  [0, 2, 2, 0, 1, 0, 1]   \n",
      "\n",
      "   Predicted Probability  Predicted Label  \n",
      "0           2.087596e-08                0  \n",
      "1           1.495058e-10                0  \n",
      "2           3.646135e-21                0  \n",
      "3           3.823784e-10                0  \n",
      "4           1.974581e-02                0  \n",
      "\n",
      "[5 rows x 46 columns]\n"
     ]
    }
   ],
   "source": [
    "# Save or inspect the results\n",
    "print(predictions.head())"
   ]
  },
  {
   "cell_type": "code",
   "execution_count": 11,
   "id": "154f7d0e-e654-4c9f-9e72-3bfaea9d4201",
   "metadata": {},
   "outputs": [
    {
     "name": "stdout",
     "output_type": "stream",
     "text": [
      "Predicted Label\n",
      "0    944907\n",
      "1     64026\n",
      "Name: count, dtype: int64\n"
     ]
    }
   ],
   "source": [
    "# Get counts of each predicted label\n",
    "predicted_label_counts = predictions['Predicted Label'].value_counts()\n",
    "print(predicted_label_counts)"
   ]
  },
  {
   "cell_type": "markdown",
   "id": "62e4a2df",
   "metadata": {},
   "source": [
    "### Visualisations"
   ]
  },
  {
   "cell_type": "code",
   "execution_count": 20,
   "id": "5ffb9da2-a6a2-4665-9acf-14bf73f76df0",
   "metadata": {},
   "outputs": [
    {
     "data": {
      "image/png": "[encoded data removed]",
      "text/plain": [
       "<Figure size 800x600 with 1 Axes>"
      ]
     },
     "metadata": {},
     "output_type": "display_data"
    }
   ],
   "source": [
    "plt.figure(figsize=(8,6))\n",
    "plt.hist(predictions['Predicted Probability'], bins=50, edgecolor='k')\n",
    "plt.xlabel('Predicted Probability')\n",
    "plt.ylabel('Frequency')\n",
    "plt.title('Distribution of Predicted Probabilities')\n",
    "plt.show()\n"
   ]
  },
  {
   "cell_type": "markdown",
   "id": "9038a9b7",
   "metadata": {},
   "source": [
    "### Label Distribution"
   ]
  },
  {
   "cell_type": "code",
   "execution_count": 13,
   "id": "b206bf93-37a8-4b8e-ba0a-4d7b92069b79",
   "metadata": {},
   "outputs": [
    {
     "name": "stdout",
     "output_type": "stream",
     "text": [
      "Predicted Label Counts:\n",
      "Predicted Label\n",
      "0    944907\n",
      "1     64026\n",
      "Name: count, dtype: int64\n",
      "Percentage of instances predicted as positive: 6.35%\n"
     ]
    }
   ],
   "source": [
    "# Predicted label counts\n",
    "label_counts = predictions['Predicted Label'].value_counts()\n",
    "print(\"Predicted Label Counts:\")\n",
    "print(label_counts)\n",
    "\n",
    "# Percentage of positive predictions\n",
    "total_predictions = len(predictions)\n",
    "num_positive = label_counts.get(1, 0)\n",
    "percentage_positive = (num_positive / total_predictions) * 100\n",
    "print(f\"Percentage of instances predicted as positive: {percentage_positive:.2f}%\")\n"
   ]
  },
  {
   "cell_type": "markdown",
   "id": "28707511",
   "metadata": {},
   "source": [
    "## Export Results"
   ]
  },
  {
   "cell_type": "code",
   "execution_count": 15,
   "id": "27950e81",
   "metadata": {},
   "outputs": [],
   "source": [
    "final_df = predictions[['Transcript ID', 'Position', 'Predicted Probability', 'Predicted Label']].copy()\n",
    "final_df.rename(columns={\"Transcript ID\":\"transcript_id\", \n",
    "                            \"Position\":\"transcript_position\", \n",
    "                            \"Predicted Probability\":\"score\",\n",
    "                            \"Predicted Label\":\"label\"}, inplace=True)\n",
    "\n",
    "final_df.drop('label', axis=1, inplace=True) ## Uncomment this line to remove the label column.\n",
    "\n",
    "output_path = os.path.join(output_directory, 'pred_results.csv')"
   ]
  },
  {
   "cell_type": "code",
   "execution_count": 16,
   "id": "e194c870",
   "metadata": {},
   "outputs": [],
   "source": [
    "final_df.to_csv(output_path, index=False)"
   ]
  }
 ],
 "metadata": {
  "kernelspec": {
   "display_name": "Python 3",
   "language": "python",
   "name": "python3"
  },
  "language_info": {
   "codemirror_mode": {
    "name": "ipython",
    "version": 3
   },
   "file_extension": ".py",
   "mimetype": "text/x-python",
   "name": "python",
   "nbconvert_exporter": "python",
   "pygments_lexer": "ipython3",
   "version": "3.8.10"
  }
 },
 "nbformat": 4,
 "nbformat_minor": 5
}
