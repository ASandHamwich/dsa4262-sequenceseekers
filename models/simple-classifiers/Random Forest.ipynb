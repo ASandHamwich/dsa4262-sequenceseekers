{
 "cells": [
  {
   "cell_type": "markdown",
   "metadata": {},
   "source": [
    "# Importing packages"
   ]
  },
  {
   "cell_type": "code",
   "execution_count": 1,
   "metadata": {},
   "outputs": [],
   "source": [
    "import os\n",
    "import re\n",
    "import pandas as pd\n",
    "import numpy as np\n",
    "from sklearn.model_selection import train_test_split\n",
    "from sklearn.ensemble import RandomForestClassifier\n",
    "from sklearn import metrics, preprocessing\n",
    "from sklearn.model_selection import KFold, cross_val_score\n",
    "from sklearn.model_selection import cross_validate\n",
    "from imblearn.over_sampling import SMOTE\n",
    "from imblearn.under_sampling import RandomUnderSampler"
   ]
  },
  {
   "cell_type": "markdown",
   "metadata": {},
   "source": [
    "### reading pkl file for parsed data"
   ]
  },
  {
   "cell_type": "code",
   "execution_count": 179,
   "metadata": {},
   "outputs": [],
   "source": [
    "df = pd.read_csv('parsed_data.csv')\n",
    "df = df.iloc[:, 1:]\n"
   ]
  },
  {
   "cell_type": "code",
   "execution_count": 180,
   "metadata": {},
   "outputs": [
    {
     "name": "stdout",
     "output_type": "stream",
     "text": [
      "           Gene ID    Transcript ID  Position     N1     N2     N3  \\\n",
      "0  ENSG00000004059  ENST00000000233       244  AAGAC  AGACC  GACCA   \n",
      "1  ENSG00000004059  ENST00000000233       261  CAAAC  AAACT  AACTG   \n",
      "2  ENSG00000004059  ENST00000000233       316  GAAAC  AAACA  AACAG   \n",
      "3  ENSG00000004059  ENST00000000233       332  AGAAC  GAACA  AACAT   \n",
      "4  ENSG00000004059  ENST00000000233       368  AGGAC  GGACA  GACAA   \n",
      "\n",
      "   N1 Avg Length  N1 Min Length  N1 Max Length  N1 Median Length  ...  \\\n",
      "0       0.008264        0.00199         0.0339           0.00697  ...   \n",
      "1       0.006609        0.00199         0.0222           0.00564  ...   \n",
      "2       0.007570        0.00232         0.0299           0.00631  ...   \n",
      "3       0.010620        0.00232         0.0370           0.00902  ...   \n",
      "4       0.010701        0.00199         0.0478           0.00896  ...   \n",
      "\n",
      "   N3 Median Length  N3 Avg SD  N3 Min SD  N3 Max SD  N3 Median SD  \\\n",
      "0          0.005980   4.386989      0.773      15.50         3.440   \n",
      "1          0.006790   3.016599      0.715      14.10         2.660   \n",
      "2          0.006310   2.087146      0.630       6.85         1.910   \n",
      "3          0.004980   2.236520      0.884       6.49         2.135   \n",
      "4          0.008695   4.260253      1.040       8.81         4.160   \n",
      "\n",
      "   N3 Avg Mean  N3 Min Mean  N3 Max Mean  N3 Median Mean  Label  \n",
      "0    80.570270         73.1         88.3            80.5      0  \n",
      "1    94.290698         88.6        103.0            94.1      0  \n",
      "2    89.364324         84.4         96.2            89.2      0  \n",
      "3    89.154000         81.4         95.7            89.9      0  \n",
      "4    85.178788         77.6         90.5            85.4      0  \n",
      "\n",
      "[5 rows x 43 columns]\n"
     ]
    }
   ],
   "source": [
    "print(df.head())"
   ]
  },
  {
   "cell_type": "code",
   "execution_count": 3,
   "metadata": {},
   "outputs": [
    {
     "name": "stdout",
     "output_type": "stream",
     "text": [
      "(121838, 43)\n"
     ]
    }
   ],
   "source": [
    "print(df.shape)\n"
   ]
  },
  {
   "cell_type": "code",
   "execution_count": 183,
   "metadata": {},
   "outputs": [
    {
     "name": "stdout",
     "output_type": "stream",
     "text": [
      "           Gene ID    Transcript ID  Position     N1     N2     N3  \\\n",
      "0  ENSG00000004059  ENST00000000233       244  AAGAC  AGACC  GACCA   \n",
      "1  ENSG00000004059  ENST00000000233       261  CAAAC  AAACT  AACTG   \n",
      "2  ENSG00000004059  ENST00000000233       316  GAAAC  AAACA  AACAG   \n",
      "3  ENSG00000004059  ENST00000000233       332  AGAAC  GAACA  AACAT   \n",
      "4  ENSG00000004059  ENST00000000233       368  AGGAC  GGACA  GACAA   \n",
      "\n",
      "   N1 Avg Length  N1 Min Length  N1 Max Length  N1 Median Length  ...  \\\n",
      "0       0.440007       0.326733       0.507092          0.443207  ...   \n",
      "1       0.109654       0.326733       0.092199          0.146993  ...   \n",
      "2       0.301414       0.653465       0.365248          0.296214  ...   \n",
      "3       0.910222       0.653465       0.617021          0.899777  ...   \n",
      "4       0.926241       0.326733       1.000000          0.886414  ...   \n",
      "\n",
      "   N3 Median Length  N3 Avg SD  N3 Min SD  N3 Max SD  N3 Median SD  \\\n",
      "0          0.188652   0.997169   0.181013   1.000000      0.696203   \n",
      "1          0.303546   0.439171   0.107595   0.877085      0.367089   \n",
      "2          0.235461   0.060716   0.000000   0.240562      0.050633   \n",
      "3          0.046809   0.121538   0.321519   0.208955      0.145570   \n",
      "4          0.573759   0.945564   0.518987   0.412643      1.000000   \n",
      "\n",
      "   N3 Avg Mean  N3 Min Mean  N3 Max Mean  N3 Median Mean  Label  \n",
      "0     0.215416     0.179894     0.160000        0.222857      0  \n",
      "1     1.000000     1.000000     1.000000        1.000000      0  \n",
      "2     0.718292     0.777778     0.611429        0.720000      0  \n",
      "3     0.706265     0.619048     0.582857        0.760000      0  \n",
      "4     0.478948     0.417989     0.285714        0.502857      0  \n",
      "\n",
      "[5 rows x 43 columns]\n"
     ]
    }
   ],
   "source": [
    "# List of columns to normalize\n",
    "columns_to_normalize = ['N1 Avg Length', 'N1 Min Length', 'N1 Max Length', 'N1 Median Length', 'N1 Avg SD', 'N1 Min SD', 'N1 Max SD', 'N1 Median SD', 'N1 Avg Mean', 'N1 Min Mean', 'N1 Max Mean',\n",
    "                         'N1 Median Mean', 'N2 Avg Length', 'N2 Min Length', 'N2 Max Length', 'N2 Median Length', 'N2 Avg SD', 'N2 Min SD', 'N2 Max SD', 'N2 Median SD', 'N2 Avg Mean', \n",
    "                         'N2 Min Mean', 'N2 Max Mean', 'N2 Median Mean', 'N3 Avg Length', 'N3 Min Length', 'N3 Max Length', 'N3 Median Length', 'N3 Avg SD', 'N3 Min SD', 'N3 Max SD', \n",
    "                         'N3 Median SD', 'N3 Avg Mean', 'N3 Min Mean', 'N3 Max Mean', 'N3 Median Mean']\n",
    "\n",
    "\n",
    "# Ensure columns are numeric\n",
    "df[columns_to_normalize] = df[columns_to_normalize].apply(pd.to_numeric, errors='coerce')\n",
    "\n",
    "# Define the normalization function\n",
    "def safe_min_max(x):\n",
    "    min_val = x.min()\n",
    "    max_val = x.max()\n",
    "    if max_val != min_val:\n",
    "        return (x - min_val) / (max_val - min_val)\n",
    "    else:\n",
    "        return 0  # or x * 0 to keep the same shape\n",
    "\n",
    "# Apply normalization grouped by 'Gene ID' and 'Transcript ID'\n",
    "# If 'Gene ID' is available in your DataFrame\n",
    "df[columns_to_normalize] = df.groupby(['Gene ID', 'Transcript ID'])[columns_to_normalize].transform(safe_min_max)\n",
    "\n",
    "# If 'Gene ID' is not available, group by 'Transcript ID' only\n",
    "# data_df[columns_to_normalize] = data_df.groupby(['Transcript ID'])[columns_to_normalize].transform(safe_min_max)\n",
    "\n",
    "# (Optional) Reset index if needed\n",
    "# data_df = data_df.reset_index(drop=True)\n",
    "\n",
    "# (Optional) Handle missing values\n",
    "df[columns_to_normalize] = df[columns_to_normalize].fillna(0)\n",
    "\n",
    "# Display the normalized DataFrame\n",
    "print(df.head())\n"
   ]
  },
  {
   "cell_type": "code",
   "execution_count": 184,
   "metadata": {},
   "outputs": [
    {
     "name": "stdout",
     "output_type": "stream",
     "text": [
      "           Gene ID    Transcript ID  Position     N1     N2     N3  \\\n",
      "0  ENSG00000004059  ENST00000000233       244  AAGAC  AGACC  GACCA   \n",
      "1  ENSG00000004059  ENST00000000233       261  CAAAC  AAACT  AACTG   \n",
      "2  ENSG00000004059  ENST00000000233       316  GAAAC  AAACA  AACAG   \n",
      "3  ENSG00000004059  ENST00000000233       332  AGAAC  GAACA  AACAT   \n",
      "4  ENSG00000004059  ENST00000000233       368  AGGAC  GGACA  GACAA   \n",
      "\n",
      "   N1 Avg Length  N1 Min Length  N1 Max Length  N1 Median Length  ...  \\\n",
      "0       0.440007       0.326733       0.507092          0.443207  ...   \n",
      "1       0.109654       0.326733       0.092199          0.146993  ...   \n",
      "2       0.301414       0.653465       0.365248          0.296214  ...   \n",
      "3       0.910222       0.653465       0.617021          0.899777  ...   \n",
      "4       0.926241       0.326733       1.000000          0.886414  ...   \n",
      "\n",
      "   N3 Avg SD  N3 Min SD  N3 Max SD  N3 Median SD  N3 Avg Mean  N3 Min Mean  \\\n",
      "0   0.997169   0.181013   1.000000      0.696203     0.215416     0.179894   \n",
      "1   0.439171   0.107595   0.877085      0.367089     1.000000     1.000000   \n",
      "2   0.060716   0.000000   0.240562      0.050633     0.718292     0.777778   \n",
      "3   0.121538   0.321519   0.208955      0.145570     0.706265     0.619048   \n",
      "4   0.945564   0.518987   0.412643      1.000000     0.478948     0.417989   \n",
      "\n",
      "   N3 Max Mean  N3 Median Mean  Label  relative_position  \n",
      "0     0.160000        0.222857      0           0.267251  \n",
      "1     1.000000        1.000000      0           0.285871  \n",
      "2     0.611429        0.720000      0           0.346112  \n",
      "3     0.582857        0.760000      0           0.363636  \n",
      "4     0.285714        0.502857      0           0.403067  \n",
      "\n",
      "[5 rows x 44 columns]\n"
     ]
    }
   ],
   "source": [
    "# Step 1: Calculate 'max_position' per 'Transcript ID'\n",
    "df['max_position'] = df.groupby('Transcript ID')['Position'].transform('max')\n",
    "\n",
    "# Step 2: Compute 'relative_position' without 'min_position' column\n",
    "df['relative_position'] = df['Position'] / df['max_position']\n",
    "\n",
    "# Step 3: Handle cases where 'max_position' == 0 to avoid division by zero\n",
    "# (Not likely in positions, but added for completeness)\n",
    "df['relative_position'] = df['relative_position'].replace([np.inf, -np.inf], np.nan)\n",
    "df['relative_position'] = df['relative_position'].fillna(0)\n",
    "\n",
    "# Optional: Drop the 'max_position' column if not needed\n",
    "df = df.drop(columns=['max_position'])\n",
    "\n",
    "# Display the updated DataFrame\n",
    "print(df.head())\n"
   ]
  },
  {
   "cell_type": "code",
   "execution_count": 200,
   "metadata": {},
   "outputs": [],
   "source": [
    "# List of categorical columns to encode\n",
    "categorical_cols = ['N1', 'N2', 'N3'] \n",
    "# Perform one-hot encoding on the specified categorical columns\n",
    "df_encoded = pd.get_dummies(df, columns=categorical_cols)\n"
   ]
  },
  {
   "cell_type": "markdown",
   "metadata": {},
   "source": [
    "### no encoding"
   ]
  },
  {
   "cell_type": "code",
   "execution_count": 201,
   "metadata": {},
   "outputs": [],
   "source": [
    "df_encoded = df\n",
    "#df_encoded = df_encoded.drop(columns=categorical_cols)"
   ]
  },
  {
   "cell_type": "code",
   "execution_count": 202,
   "metadata": {},
   "outputs": [],
   "source": [
    "#grouping_columns = ['Transcript ID', 'Position', 'Nucleotide 1', 'Nucleotide 2', 'Nucleotide 3']\n",
    "#'N1', 'N2', 'N3','N1 Median Length',  'N1 Median SD', 'N1 Median Mean',  'N2 Median Length', 'N2 Median SD', 'N2 Median Mean',  'N3 Median Length', 'N3 Median SD',  'N3 Median Mean','relative_position',\n",
    "# Identify columns to drop\n",
    "columns_to_keep = ['Gene ID', 'Transcript ID', 'Position' ,'Label', 'N1 Avg Length','N1 Avg SD','N1 Avg Mean','N2 Avg Length','N2 Avg SD','N2 Avg Mean','N3 Avg Length', 'N3 Avg SD','N3 Avg Mean']\n",
    "\n",
    "columns_to_drop = [\n",
    "    col for col in df_encoded.columns\n",
    "    if col not in columns_to_keep\n",
    "]\n",
    "#drop:\n",
    "# ['N1 Avg Length', 'N1 Min Length', 'N1 Max Length', 'N1 Median Length', 'N1 Avg SD', 'N1 Min SD', 'N1 Max SD', 'N1 Median SD', 'N1 Avg Mean', 'N1 Min Mean', 'N1 Max Mean', 'N1 Median Mean', 'N2 Avg Length', 'N2 Min Length', 'N2 Max Length', 'N2 Median Length', 'N2 Avg SD', 'N2 Min SD', 'N2 Max SD', 'N2 Median SD', 'N2 Avg Mean', 'N2 Min Mean', 'N2 Max Mean', 'N2 Median Mean', 'N3 Avg Length', 'N3 Min Length', 'N3 Max Length', 'N3 Median Length', 'N3 Avg SD', 'N3 Min SD', 'N3 Max SD', 'N3 Median SD', 'N3 Avg Mean', 'N3 Min Mean', 'N3 Max Mean', 'N3 Median Mean', 'relative_position']"
   ]
  },
  {
   "cell_type": "code",
   "execution_count": 203,
   "metadata": {},
   "outputs": [
    {
     "name": "stdout",
     "output_type": "stream",
     "text": [
      "['N1', 'N2', 'N3', 'N1 Min Length', 'N1 Max Length', 'N1 Median Length', 'N1 Min SD', 'N1 Max SD', 'N1 Median SD', 'N1 Min Mean', 'N1 Max Mean', 'N1 Median Mean', 'N2 Min Length', 'N2 Max Length', 'N2 Median Length', 'N2 Min SD', 'N2 Max SD', 'N2 Median SD', 'N2 Min Mean', 'N2 Max Mean', 'N2 Median Mean', 'N3 Min Length', 'N3 Max Length', 'N3 Median Length', 'N3 Min SD', 'N3 Max SD', 'N3 Median SD', 'N3 Min Mean', 'N3 Max Mean', 'N3 Median Mean', 'relative_position']\n"
     ]
    }
   ],
   "source": [
    "print(columns_to_drop)"
   ]
  },
  {
   "cell_type": "code",
   "execution_count": 204,
   "metadata": {},
   "outputs": [],
   "source": [
    "# Drop the unwanted columns\n",
    "df_encoded  = df_encoded.drop(columns=columns_to_drop)"
   ]
  },
  {
   "cell_type": "code",
   "execution_count": 205,
   "metadata": {},
   "outputs": [
    {
     "name": "stdout",
     "output_type": "stream",
     "text": [
      "           Gene ID    Transcript ID  Position  N1 Avg Length  N1 Avg SD  \\\n",
      "0  ENSG00000004059  ENST00000000233       244       0.440007   0.335975   \n",
      "1  ENSG00000004059  ENST00000000233       261       0.109654   0.164666   \n",
      "2  ENSG00000004059  ENST00000000233       316       0.301414   0.117750   \n",
      "3  ENSG00000004059  ENST00000000233       332       0.910222   0.719040   \n",
      "4  ENSG00000004059  ENST00000000233       368       0.926241   0.708616   \n",
      "\n",
      "   N1 Avg Mean  N2 Avg Length  N2 Avg SD  N2 Avg Mean  N3 Avg Length  \\\n",
      "0     0.863357       0.549989   0.695664     0.915816       0.204450   \n",
      "1     0.524397       0.002895   0.050796     0.396717       0.252744   \n",
      "2     0.422725       0.131661   0.115376     0.139169       0.232243   \n",
      "3     1.000000       0.391664   0.000000     0.107185       0.040099   \n",
      "4     0.723665       1.000000   0.461054     0.801796       0.557900   \n",
      "\n",
      "   N3 Avg SD  N3 Avg Mean  Label  \n",
      "0   0.997169     0.215416      0  \n",
      "1   0.439171     1.000000      0  \n",
      "2   0.060716     0.718292      0  \n",
      "3   0.121538     0.706265      0  \n",
      "4   0.945564     0.478948      0  \n"
     ]
    }
   ],
   "source": [
    "print(df_encoded.head())"
   ]
  },
  {
   "cell_type": "code",
   "execution_count": 152,
   "metadata": {},
   "outputs": [],
   "source": [
    "# List of categorical columns to encode\n",
    "categorical_cols = ['N1', 'N2', 'N3'] \n",
    "# Perform one-hot encoding on the specified categorical columns\n",
    "df_encoded = pd.get_dummies(df_encoded, columns=categorical_cols)"
   ]
  },
  {
   "cell_type": "code",
   "execution_count": 153,
   "metadata": {},
   "outputs": [
    {
     "name": "stdout",
     "output_type": "stream",
     "text": [
      "           Gene ID    Transcript ID  Position  Label  N1_AAAAC  N1_AAGAC  \\\n",
      "0  ENSG00000004059  ENST00000000233       244      0         0         1   \n",
      "1  ENSG00000004059  ENST00000000233       261      0         0         0   \n",
      "2  ENSG00000004059  ENST00000000233       316      0         0         0   \n",
      "3  ENSG00000004059  ENST00000000233       332      0         0         0   \n",
      "4  ENSG00000004059  ENST00000000233       368      0         0         0   \n",
      "\n",
      "   N1_AGAAC  N1_AGGAC  N1_ATAAC  N1_ATGAC  ...  N3_GACAG  N3_GACAT  N3_GACCA  \\\n",
      "0         0         0         0         0  ...         0         0         1   \n",
      "1         0         0         0         0  ...         0         0         0   \n",
      "2         0         0         0         0  ...         0         0         0   \n",
      "3         1         0         0         0  ...         0         0         0   \n",
      "4         0         1         0         0  ...         0         0         0   \n",
      "\n",
      "   N3_GACCC  N3_GACCG  N3_GACCT  N3_GACTA  N3_GACTC  N3_GACTG  N3_GACTT  \n",
      "0         0         0         0         0         0         0         0  \n",
      "1         0         0         0         0         0         0         0  \n",
      "2         0         0         0         0         0         0         0  \n",
      "3         0         0         0         0         0         0         0  \n",
      "4         0         0         0         0         0         0         0  \n",
      "\n",
      "[5 rows x 70 columns]\n"
     ]
    }
   ],
   "source": [
    "print(df_encoded.head())"
   ]
  },
  {
   "cell_type": "markdown",
   "metadata": {},
   "source": [
    "## Train test split"
   ]
  },
  {
   "cell_type": "code",
   "execution_count": 206,
   "metadata": {},
   "outputs": [],
   "source": [
    "# Ensure that 'Gene ID' is treated as a string\n",
    "df_encoded['Gene ID'] = df_encoded['Gene ID'].astype(str)\n",
    "\n",
    "# Lists to hold the training and testing data\n",
    "train_list = []\n",
    "test_list = []\n",
    "\n",
    "# Group the DataFrame by 'Gene ID'\n",
    "grouped = df_encoded.groupby('Gene ID')\n",
    "\n",
    "# Iterate over each group and perform train-test split\n",
    "for gene_id, group in grouped:\n",
    "    n_samples = len(group)\n",
    "    \n",
    "    if n_samples >= 2:\n",
    "        # Adjust test_size as needed (e.g., 0.2 for 80/20 split)\n",
    "        train, test = train_test_split(group, test_size=0.3, random_state=42)\n",
    "    else:\n",
    "        # Assign singleton group to training set\n",
    "        train = group\n",
    "        test = pd.DataFrame(columns=group.columns)  # Empty DataFrame for testing\n",
    "    \n",
    "    # Append the results to the respective lists\n",
    "    if not train.empty:\n",
    "        train_list.append(train)\n",
    "    if not test.empty:\n",
    "        test_list.append(test)\n",
    "\n",
    "# Concatenate all the training and testing data\n",
    "train_df = pd.concat(train_list).reset_index(drop=True)\n",
    "test_df = pd.concat(test_list).reset_index(drop=True)\n",
    "\n",
    "# Optional: Shuffle the training and testing DataFrames\n",
    "train_df = train_df.sample(frac=1, random_state=10).reset_index(drop=True)\n",
    "test_df = test_df.sample(frac=1, random_state=10).reset_index(drop=True)\n",
    "\n",
    "\n"
   ]
  },
  {
   "cell_type": "code",
   "execution_count": 207,
   "metadata": {},
   "outputs": [
    {
     "name": "stdout",
     "output_type": "stream",
     "text": [
      "Training Data:\n",
      "           Gene ID    Transcript ID  Position  N1 Avg Length  N1 Avg SD  \\\n",
      "0  ENSG00000117448  ENST00000372025      1431       0.311228   0.378391   \n",
      "1  ENSG00000129055  ENST00000511203      1813       0.674383   0.002877   \n",
      "2  ENSG00000162521  ENST00000373493      2116       0.325472   0.284552   \n",
      "3  ENSG00000175029  ENST00000337198      1852       0.680452   0.947986   \n",
      "4  ENSG00000133872  ENST00000256216      1712       0.267256   0.254763   \n",
      "\n",
      "   N1 Avg Mean  N2 Avg Length  N2 Avg SD  N2 Avg Mean  N3 Avg Length  \\\n",
      "0     0.573686       0.116091   0.740009     0.445221       0.114614   \n",
      "1     0.835686       0.000000   0.140235     0.188047       0.534483   \n",
      "2     0.656329       0.167309   0.856019     0.618753       0.000000   \n",
      "3     0.708608       0.159952   0.175552     0.148559       0.279110   \n",
      "4     0.463496       0.258638   0.955434     0.573984       0.483363   \n",
      "\n",
      "   N3 Avg SD  N3 Avg Mean  Label  \n",
      "0   0.165239     0.055997      0  \n",
      "1   0.000000     0.316394      0  \n",
      "2   0.322724     0.006064      0  \n",
      "3   0.247514     0.645008      0  \n",
      "4   0.610798     0.159863      0  \n"
     ]
    }
   ],
   "source": [
    "# Display the results\n",
    "print(\"Training Data:\")\n",
    "print(train_df.head())\n"
   ]
  },
  {
   "cell_type": "code",
   "execution_count": 195,
   "metadata": {},
   "outputs": [
    {
     "name": "stdout",
     "output_type": "stream",
     "text": [
      "Testing Data:\n",
      "           Gene ID    Transcript ID  Position     N1     N2     N3  \\\n",
      "0  ENSG00000125611  ENST00000454841       687  TGGAC  GGACA  GACAT   \n",
      "1  ENSG00000013810  ENST00000313368      1541  GAGAC  AGACA  GACAG   \n",
      "2  ENSG00000137955  ENST00000319942       982  AGAAC  GAACA  AACAG   \n",
      "3  ENSG00000273749  ENST00000610365      2421  CTAAC  TAACC  AACCG   \n",
      "4  ENSG00000162244  ENST00000480306       101  GAAAC  AAACC  AACCC   \n",
      "\n",
      "   N1 Avg Length  N1 Min Length  N1 Max Length  N1 Median Length  ...  \\\n",
      "0       0.195642       1.000000       0.000000          0.166297  ...   \n",
      "1       0.449039       0.140426       0.257225          0.364875  ...   \n",
      "2       0.263536       0.248120       0.118785          0.282345  ...   \n",
      "3       0.062101       0.265060       0.092388          0.010152  ...   \n",
      "4       0.742185       0.500000       0.208183          0.772727  ...   \n",
      "\n",
      "   N3 Avg SD  N3 Min SD  N3 Max SD  N3 Median SD  N3 Avg Mean  N3 Min Mean  \\\n",
      "0   0.250467   0.245542   0.198103      0.165517     0.084667     0.000000   \n",
      "1   0.579948   0.737020   0.621849      0.586610     0.278574     0.422619   \n",
      "2   0.211130   0.311554   0.131606      0.200431     0.649569     0.664894   \n",
      "3   0.000000   0.000000   0.000000      0.000000     0.394619     0.488987   \n",
      "4   0.266566   0.787485   0.355472      0.279661     0.720847     0.744000   \n",
      "\n",
      "   N3 Max Mean  N3 Median Mean  Label  relative_position  \n",
      "0     0.000000        0.163462      0           0.959497  \n",
      "1     0.309524        0.231317      0           0.702370  \n",
      "2     0.698113        0.583799      0           0.854656  \n",
      "3     0.323699        0.370482      0           0.541247  \n",
      "4     0.226351        0.756757      0           0.143059  \n",
      "\n",
      "[5 rows x 44 columns]\n"
     ]
    }
   ],
   "source": [
    "print(\"Testing Data:\")\n",
    "print(test_df.head())"
   ]
  },
  {
   "cell_type": "code",
   "execution_count": 208,
   "metadata": {},
   "outputs": [],
   "source": [
    "# Replace with the actual column names you want to drop\n",
    "columns_to_drop = ['Gene ID', 'Transcript ID', 'Position']\n",
    "\n",
    "# Drop columns from the training data\n",
    "train_df = train_df.drop(columns=columns_to_drop)\n",
    "\n",
    "# Drop columns from the testing data\n",
    "test_df = test_df.drop(columns=columns_to_drop)\n",
    "\n",
    "# For the training data\n",
    "y_train = train_df['Label']\n",
    "X_train = train_df.drop(columns=['Label'])\n",
    "\n",
    "# For the testing data\n",
    "y_test = test_df['Label']\n",
    "X_test = test_df.drop(columns=['Label'])\n",
    "\n"
   ]
  },
  {
   "cell_type": "code",
   "execution_count": 209,
   "metadata": {},
   "outputs": [
    {
     "name": "stdout",
     "output_type": "stream",
     "text": [
      "   N1 Avg Length  N1 Avg SD  N1 Avg Mean  N2 Avg Length  N2 Avg SD  \\\n",
      "0       0.195642   0.017881     0.985781       0.495307   0.645003   \n",
      "1       0.449039   0.561228     0.690727       1.000000   0.516256   \n",
      "2       0.263536   1.000000     1.000000       0.226289   0.189328   \n",
      "3       0.062101   0.030633     0.143804       0.186099   0.023320   \n",
      "4       0.742185   0.211576     0.098793       0.439329   0.097296   \n",
      "\n",
      "   N2 Avg Mean  N3 Avg Length  N3 Avg SD  N3 Avg Mean  \n",
      "0     0.770404       0.000000   0.250467     0.084667  \n",
      "1     0.862334       0.827190   0.579948     0.278574  \n",
      "2     0.040773       0.152452   0.211130     0.649569  \n",
      "3     0.000000       0.095640   0.000000     0.394619  \n",
      "4     0.216452       0.435190   0.266566     0.720847  \n"
     ]
    }
   ],
   "source": [
    "print(X_test.head())"
   ]
  },
  {
   "cell_type": "markdown",
   "metadata": {},
   "source": [
    "## Deal with imbalance data"
   ]
  },
  {
   "cell_type": "markdown",
   "metadata": {},
   "source": [
    "### over sampling with SMOTE"
   ]
  },
  {
   "cell_type": "code",
   "execution_count": 210,
   "metadata": {},
   "outputs": [],
   "source": [
    "# Resample the training data\n",
    "smote = SMOTE(random_state=21)\n",
    "X_train_resampled, y_train_resampled = smote.fit_resample(X_train, y_train)\n"
   ]
  },
  {
   "cell_type": "code",
   "execution_count": 90,
   "metadata": {},
   "outputs": [
    {
     "name": "stdout",
     "output_type": "stream",
     "text": [
      "159774\n",
      "159774\n",
      "83610\n",
      "83610\n"
     ]
    }
   ],
   "source": [
    "print(len(X_train_resampled))\n",
    "print(len(y_train_resampled))\n",
    "\n",
    "print(len(X_train))\n",
    "print(len(y_train))"
   ]
  },
  {
   "cell_type": "markdown",
   "metadata": {},
   "source": [
    "## undersample"
   ]
  },
  {
   "cell_type": "code",
   "execution_count": 123,
   "metadata": {},
   "outputs": [],
   "source": [
    "rus = RandomUnderSampler(random_state=21)\n",
    "X_train_resampled, y_train_resampled = rus.fit_resample(X_train, y_train)\n"
   ]
  },
  {
   "cell_type": "code",
   "execution_count": 124,
   "metadata": {},
   "outputs": [
    {
     "name": "stdout",
     "output_type": "stream",
     "text": [
      "7446\n",
      "7446\n"
     ]
    }
   ],
   "source": [
    "print(len(X_train_resampled))\n",
    "print(len(y_train_resampled))"
   ]
  },
  {
   "cell_type": "markdown",
   "metadata": {},
   "source": [
    "## Prediction"
   ]
  },
  {
   "cell_type": "code",
   "execution_count": 211,
   "metadata": {},
   "outputs": [],
   "source": [
    "rfc = RandomForestClassifier()\n",
    "rfc.fit(X_train, y_train)\n",
    "y_pred = rfc.predict(X_test)\n",
    "\n"
   ]
  },
  {
   "cell_type": "code",
   "execution_count": 215,
   "metadata": {},
   "outputs": [],
   "source": [
    "# Train the classifier with resampled data\n",
    "rfc = RandomForestClassifier(n_estimators=200, random_state=13)\n",
    "rfc.fit(X_train_resampled, y_train_resampled)\n",
    "\n",
    "# Evaluate the model\n",
    "y_pred = rfc.predict(X_test)"
   ]
  },
  {
   "cell_type": "code",
   "execution_count": 125,
   "metadata": {},
   "outputs": [],
   "source": [
    "# Use class_weight parameter\n",
    "rfc = RandomForestClassifier(n_estimators=100, random_state=13, class_weight='balanced')\n",
    "rfc.fit(X_train_resampled, y_train_resampled)\n",
    "\n",
    "# Evaluate the model\n",
    "y_pred = rfc.predict(X_test)\n"
   ]
  },
  {
   "cell_type": "code",
   "execution_count": 216,
   "metadata": {},
   "outputs": [
    {
     "name": "stdout",
     "output_type": "stream",
     "text": [
      "Random Forest Classifier\n",
      "Accuracy Score: 0.9120278330019881\n",
      "\n",
      "F1 Score: 0.089851150202977\n",
      "\n",
      "Precision: 0.08543489449305199\n",
      "\n",
      "Recall: 0.09474885844748858\n",
      "\n",
      "Confusion Matrix:\n",
      " [[34699  1777]\n",
      " [ 1586   166]]\n",
      "\n",
      "Classification Report:\n",
      "               precision    recall  f1-score   support\n",
      "\n",
      "           0       0.96      0.95      0.95     36476\n",
      "           1       0.09      0.09      0.09      1752\n",
      "\n",
      "    accuracy                           0.91     38228\n",
      "   macro avg       0.52      0.52      0.52     38228\n",
      "weighted avg       0.92      0.91      0.91     38228\n",
      "\n"
     ]
    }
   ],
   "source": [
    "print('Random Forest Classifier')\n",
    "print(f'Accuracy Score: {metrics.accuracy_score(y_test, y_pred)}\\n')\n",
    "print(f'F1 Score: {metrics.f1_score(y_test, y_pred)}\\n')\n",
    "print(f'Precision: {metrics.precision_score(y_test, y_pred)}\\n')\n",
    "print(f'Recall: {metrics.recall_score(y_test, y_pred)}\\n')\n",
    "print(f'Confusion Matrix:\\n {metrics.confusion_matrix(y_test, y_pred)}\\n')\n",
    "\n",
    "report = metrics.classification_report(y_test, y_pred)\n",
    "print(\"Classification Report:\\n\", report)\n",
    " \n",
    "\n"
   ]
  },
  {
   "cell_type": "code",
   "execution_count": 217,
   "metadata": {},
   "outputs": [
    {
     "name": "stdout",
     "output_type": "stream",
     "text": [
      "ROC AUC Score: 0.55\n"
     ]
    }
   ],
   "source": [
    "y_pred_proba = rfc.predict_proba(X_test)[:, 1]\n",
    "roc_auc = metrics.roc_auc_score(y_test, y_pred_proba)\n",
    "print(f'ROC AUC Score: {roc_auc:.2f}')\n"
   ]
  },
  {
   "cell_type": "code",
   "execution_count": 218,
   "metadata": {},
   "outputs": [
    {
     "data": {
      "image/png": "[encoded data removed]",
      "text/plain": [
       "<Figure size 800x600 with 1 Axes>"
      ]
     },
     "metadata": {},
     "output_type": "display_data"
    }
   ],
   "source": [
    "from sklearn.metrics import precision_recall_curve, average_precision_score\n",
    "import matplotlib.pyplot as plt\n",
    "\n",
    "average_precision = average_precision_score(y_test, y_pred_proba)\n",
    "precision, recall, thresholds = precision_recall_curve(y_test, y_pred_proba)\n",
    "\n",
    "plt.figure(figsize=(8,6))\n",
    "plt.plot(recall, precision, label=f'AP = {average_precision:.2f}', color='blue', linewidth=2)\n",
    "plt.xlabel('Recall')\n",
    "plt.ylabel('Precision')\n",
    "plt.title('Precision-Recall Curve')\n",
    "plt.legend(loc='lower left')\n",
    "plt.grid(True)\n",
    "plt.show()\n"
   ]
  },
  {
   "cell_type": "code",
   "execution_count": 167,
   "metadata": {},
   "outputs": [
    {
     "data": {
      "image/png": "[encoded data removed]",
      "text/plain": [
       "<Figure size 800x600 with 1 Axes>"
      ]
     },
     "metadata": {},
     "output_type": "display_data"
    }
   ],
   "source": [
    "import numpy as np\n",
    "import matplotlib.pyplot as plt\n",
    "from sklearn.metrics import precision_recall_curve, average_precision_score\n",
    "\n",
    "# Create synthetic data for an ideal classifier\n",
    "# 50 positive samples labeled as 1, 50 negative samples labeled as 0\n",
    "y_true = np.array([1]*50 + [0]*50)\n",
    "\n",
    "# Predicted probabilities: all positives have a probability of 1, negatives have 0\n",
    "y_scores = np.array([1]*50 + [0]*50)\n",
    "\n",
    "# Calculate precision, recall, and thresholds\n",
    "precision, recall, thresholds = precision_recall_curve(y_true, y_scores)\n",
    "\n",
    "# Calculate average precision score\n",
    "average_precision = average_precision_score(y_true, y_scores)\n",
    "\n",
    "# Plotting the Precision-Recall curve\n",
    "plt.figure(figsize=(8,6))\n",
    "plt.step(recall, precision, where='post', label=f'Average Precision = {average_precision:.2f}')\n",
    "plt.fill_between(recall, precision, step='post', alpha=0.2)\n",
    "\n",
    "plt.xlabel('Recall')\n",
    "plt.ylabel('Precision')\n",
    "plt.title('Ideal Precision-Recall Curve')\n",
    "plt.legend(loc='lower left')\n",
    "plt.grid(True)\n",
    "plt.show()\n"
   ]
  }
 ],
 "metadata": {
  "kernelspec": {
   "display_name": "base",
   "language": "python",
   "name": "python3"
  },
  "language_info": {
   "codemirror_mode": {
    "name": "ipython",
    "version": 3
   },
   "file_extension": ".py",
   "mimetype": "text/x-python",
   "name": "python",
   "nbconvert_exporter": "python",
   "pygments_lexer": "ipython3",
   "version": "3.10.9"
  }
 },
 "nbformat": 4,
 "nbformat_minor": 2
}
