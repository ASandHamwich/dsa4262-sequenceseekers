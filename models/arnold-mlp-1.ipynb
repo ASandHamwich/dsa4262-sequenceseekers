{
 "cells": [
  {
   "cell_type": "markdown",
   "metadata": {},
   "source": [
    "# Multi-Layer Perceptron"
   ]
  },
  {
   "cell_type": "markdown",
   "metadata": {},
   "source": [
    "## Libraries"
   ]
  },
  {
   "cell_type": "code",
   "execution_count": 15,
   "metadata": {},
   "outputs": [],
   "source": [
    "from tensorflow.keras.models import Sequential\n",
    "from tensorflow.keras.layers import Dense, Dropout\n",
    "from tensorflow.keras.optimizers import Adam\n",
    "from tensorflow.keras.callbacks import EarlyStopping\n",
    "\n",
    "from sklearn.model_selection import train_test_split\n",
    "from sklearn.preprocessing import StandardScaler\n",
    "from sklearn.model_selection import train_test_split, GroupShuffleSplit\n",
    "from sklearn.metrics import confusion_matrix, roc_auc_score, roc_curve, ConfusionMatrixDisplay, RocCurveDisplay, auc, precision_recall_curve\n",
    "\n",
    "\n",
    "from imblearn.under_sampling import RandomUnderSampler\n",
    "from imblearn.over_sampling import SMOTE\n",
    "from collections import Counter\n",
    "\n",
    "import matplotlib.pyplot as plt\n",
    "import numpy as np\n",
    "import pandas as pd\n"
   ]
  },
  {
   "cell_type": "markdown",
   "metadata": {},
   "source": [
    "## Data"
   ]
  },
  {
   "cell_type": "code",
   "execution_count": 16,
   "metadata": {},
   "outputs": [],
   "source": [
    "data = pd.read_csv(\"../data/parsed_data_final.csv\", index_col = [0]) "
   ]
  },
  {
   "cell_type": "code",
   "execution_count": 17,
   "metadata": {},
   "outputs": [
    {
     "data": {
      "text/html": [
       "<div>\n",
       "<style scoped>\n",
       "    .dataframe tbody tr th:only-of-type {\n",
       "        vertical-align: middle;\n",
       "    }\n",
       "\n",
       "    .dataframe tbody tr th {\n",
       "        vertical-align: top;\n",
       "    }\n",
       "\n",
       "    .dataframe thead th {\n",
       "        text-align: right;\n",
       "    }\n",
       "</style>\n",
       "<table border=\"1\" class=\"dataframe\">\n",
       "  <thead>\n",
       "    <tr style=\"text-align: right;\">\n",
       "      <th></th>\n",
       "      <th>Gene ID</th>\n",
       "      <th>Transcript ID</th>\n",
       "      <th>Position</th>\n",
       "      <th>Nucleotide 1</th>\n",
       "      <th>Nucleotide 2</th>\n",
       "      <th>Nucleotide 3</th>\n",
       "      <th>N1 Length Avg</th>\n",
       "      <th>N1 Length Median</th>\n",
       "      <th>N1 Length Min</th>\n",
       "      <th>N1 Length Max</th>\n",
       "      <th>...</th>\n",
       "      <th>N3 Length Max</th>\n",
       "      <th>N3 SD Avg</th>\n",
       "      <th>N3 SD Median</th>\n",
       "      <th>N3 SD Min</th>\n",
       "      <th>N3 SD Max</th>\n",
       "      <th>N3 Mean Avg</th>\n",
       "      <th>N3 Mean Median</th>\n",
       "      <th>N3 Mean Min</th>\n",
       "      <th>N3 Mean Max</th>\n",
       "      <th>Label</th>\n",
       "    </tr>\n",
       "  </thead>\n",
       "  <tbody>\n",
       "    <tr>\n",
       "      <th>0</th>\n",
       "      <td>ENSG00000004059</td>\n",
       "      <td>ENST00000000233</td>\n",
       "      <td>244</td>\n",
       "      <td>AAGAC</td>\n",
       "      <td>AGACC</td>\n",
       "      <td>GACCA</td>\n",
       "      <td>0.008264</td>\n",
       "      <td>0.00697</td>\n",
       "      <td>0.00199</td>\n",
       "      <td>0.0339</td>\n",
       "      <td>...</td>\n",
       "      <td>0.0329</td>\n",
       "      <td>4.386989</td>\n",
       "      <td>3.440</td>\n",
       "      <td>0.773</td>\n",
       "      <td>15.50</td>\n",
       "      <td>80.570270</td>\n",
       "      <td>80.50</td>\n",
       "      <td>73.1</td>\n",
       "      <td>88.3</td>\n",
       "      <td>0</td>\n",
       "    </tr>\n",
       "    <tr>\n",
       "      <th>1</th>\n",
       "      <td>ENSG00000004059</td>\n",
       "      <td>ENST00000000233</td>\n",
       "      <td>261</td>\n",
       "      <td>CAAAC</td>\n",
       "      <td>AAACT</td>\n",
       "      <td>AACTG</td>\n",
       "      <td>0.006609</td>\n",
       "      <td>0.00564</td>\n",
       "      <td>0.00199</td>\n",
       "      <td>0.0222</td>\n",
       "      <td>...</td>\n",
       "      <td>0.0262</td>\n",
       "      <td>3.016599</td>\n",
       "      <td>2.660</td>\n",
       "      <td>0.715</td>\n",
       "      <td>14.10</td>\n",
       "      <td>94.290698</td>\n",
       "      <td>94.10</td>\n",
       "      <td>88.6</td>\n",
       "      <td>103.0</td>\n",
       "      <td>0</td>\n",
       "    </tr>\n",
       "    <tr>\n",
       "      <th>2</th>\n",
       "      <td>ENSG00000004059</td>\n",
       "      <td>ENST00000000233</td>\n",
       "      <td>316</td>\n",
       "      <td>GAAAC</td>\n",
       "      <td>AAACA</td>\n",
       "      <td>AACAG</td>\n",
       "      <td>0.007570</td>\n",
       "      <td>0.00631</td>\n",
       "      <td>0.00232</td>\n",
       "      <td>0.0299</td>\n",
       "      <td>...</td>\n",
       "      <td>0.0266</td>\n",
       "      <td>2.087146</td>\n",
       "      <td>1.910</td>\n",
       "      <td>0.630</td>\n",
       "      <td>6.85</td>\n",
       "      <td>89.364324</td>\n",
       "      <td>89.20</td>\n",
       "      <td>84.4</td>\n",
       "      <td>96.2</td>\n",
       "      <td>0</td>\n",
       "    </tr>\n",
       "    <tr>\n",
       "      <th>3</th>\n",
       "      <td>ENSG00000004059</td>\n",
       "      <td>ENST00000000233</td>\n",
       "      <td>332</td>\n",
       "      <td>AGAAC</td>\n",
       "      <td>GAACA</td>\n",
       "      <td>AACAT</td>\n",
       "      <td>0.010620</td>\n",
       "      <td>0.00902</td>\n",
       "      <td>0.00232</td>\n",
       "      <td>0.0370</td>\n",
       "      <td>...</td>\n",
       "      <td>0.0214</td>\n",
       "      <td>2.236520</td>\n",
       "      <td>2.135</td>\n",
       "      <td>0.884</td>\n",
       "      <td>6.49</td>\n",
       "      <td>89.154000</td>\n",
       "      <td>89.90</td>\n",
       "      <td>81.4</td>\n",
       "      <td>95.7</td>\n",
       "      <td>0</td>\n",
       "    </tr>\n",
       "    <tr>\n",
       "      <th>4</th>\n",
       "      <td>ENSG00000004059</td>\n",
       "      <td>ENST00000000233</td>\n",
       "      <td>368</td>\n",
       "      <td>AGGAC</td>\n",
       "      <td>GGACA</td>\n",
       "      <td>GACAA</td>\n",
       "      <td>0.010701</td>\n",
       "      <td>0.00896</td>\n",
       "      <td>0.00199</td>\n",
       "      <td>0.0478</td>\n",
       "      <td>...</td>\n",
       "      <td>0.0485</td>\n",
       "      <td>4.260253</td>\n",
       "      <td>4.160</td>\n",
       "      <td>1.040</td>\n",
       "      <td>8.81</td>\n",
       "      <td>85.178788</td>\n",
       "      <td>85.40</td>\n",
       "      <td>77.6</td>\n",
       "      <td>90.5</td>\n",
       "      <td>0</td>\n",
       "    </tr>\n",
       "    <tr>\n",
       "      <th>...</th>\n",
       "      <td>...</td>\n",
       "      <td>...</td>\n",
       "      <td>...</td>\n",
       "      <td>...</td>\n",
       "      <td>...</td>\n",
       "      <td>...</td>\n",
       "      <td>...</td>\n",
       "      <td>...</td>\n",
       "      <td>...</td>\n",
       "      <td>...</td>\n",
       "      <td>...</td>\n",
       "      <td>...</td>\n",
       "      <td>...</td>\n",
       "      <td>...</td>\n",
       "      <td>...</td>\n",
       "      <td>...</td>\n",
       "      <td>...</td>\n",
       "      <td>...</td>\n",
       "      <td>...</td>\n",
       "      <td>...</td>\n",
       "      <td>...</td>\n",
       "    </tr>\n",
       "    <tr>\n",
       "      <th>121833</th>\n",
       "      <td>ENSG00000167747</td>\n",
       "      <td>ENST00000641834</td>\n",
       "      <td>1348</td>\n",
       "      <td>GGGAC</td>\n",
       "      <td>GGACA</td>\n",
       "      <td>GACAT</td>\n",
       "      <td>0.009594</td>\n",
       "      <td>0.00817</td>\n",
       "      <td>0.00232</td>\n",
       "      <td>0.0432</td>\n",
       "      <td>...</td>\n",
       "      <td>0.0242</td>\n",
       "      <td>4.005616</td>\n",
       "      <td>3.640</td>\n",
       "      <td>1.030</td>\n",
       "      <td>12.50</td>\n",
       "      <td>82.004110</td>\n",
       "      <td>82.10</td>\n",
       "      <td>74.0</td>\n",
       "      <td>92.8</td>\n",
       "      <td>1</td>\n",
       "    </tr>\n",
       "    <tr>\n",
       "      <th>121834</th>\n",
       "      <td>ENSG00000167747</td>\n",
       "      <td>ENST00000641834</td>\n",
       "      <td>1429</td>\n",
       "      <td>CTGAC</td>\n",
       "      <td>TGACA</td>\n",
       "      <td>GACAC</td>\n",
       "      <td>0.008393</td>\n",
       "      <td>0.00618</td>\n",
       "      <td>0.00232</td>\n",
       "      <td>0.0262</td>\n",
       "      <td>...</td>\n",
       "      <td>0.0149</td>\n",
       "      <td>3.644638</td>\n",
       "      <td>3.440</td>\n",
       "      <td>1.580</td>\n",
       "      <td>6.50</td>\n",
       "      <td>80.497101</td>\n",
       "      <td>80.60</td>\n",
       "      <td>75.0</td>\n",
       "      <td>90.6</td>\n",
       "      <td>0</td>\n",
       "    </tr>\n",
       "    <tr>\n",
       "      <th>121835</th>\n",
       "      <td>ENSG00000167747</td>\n",
       "      <td>ENST00000641834</td>\n",
       "      <td>1531</td>\n",
       "      <td>TGGAC</td>\n",
       "      <td>GGACA</td>\n",
       "      <td>GACAC</td>\n",
       "      <td>0.008161</td>\n",
       "      <td>0.00697</td>\n",
       "      <td>0.00232</td>\n",
       "      <td>0.0315</td>\n",
       "      <td>...</td>\n",
       "      <td>0.0260</td>\n",
       "      <td>2.181562</td>\n",
       "      <td>1.925</td>\n",
       "      <td>1.040</td>\n",
       "      <td>7.19</td>\n",
       "      <td>84.190625</td>\n",
       "      <td>84.50</td>\n",
       "      <td>78.2</td>\n",
       "      <td>88.1</td>\n",
       "      <td>1</td>\n",
       "    </tr>\n",
       "    <tr>\n",
       "      <th>121836</th>\n",
       "      <td>ENSG00000167747</td>\n",
       "      <td>ENST00000641834</td>\n",
       "      <td>1537</td>\n",
       "      <td>CTGAC</td>\n",
       "      <td>TGACC</td>\n",
       "      <td>GACCA</td>\n",
       "      <td>0.008044</td>\n",
       "      <td>0.00660</td>\n",
       "      <td>0.00232</td>\n",
       "      <td>0.0483</td>\n",
       "      <td>...</td>\n",
       "      <td>0.0144</td>\n",
       "      <td>2.540877</td>\n",
       "      <td>2.330</td>\n",
       "      <td>1.190</td>\n",
       "      <td>6.50</td>\n",
       "      <td>82.289474</td>\n",
       "      <td>82.00</td>\n",
       "      <td>77.6</td>\n",
       "      <td>87.4</td>\n",
       "      <td>0</td>\n",
       "    </tr>\n",
       "    <tr>\n",
       "      <th>121837</th>\n",
       "      <td>ENSG00000167747</td>\n",
       "      <td>ENST00000641834</td>\n",
       "      <td>1693</td>\n",
       "      <td>TTGAC</td>\n",
       "      <td>TGACA</td>\n",
       "      <td>GACAT</td>\n",
       "      <td>0.008788</td>\n",
       "      <td>0.00709</td>\n",
       "      <td>0.00232</td>\n",
       "      <td>0.0215</td>\n",
       "      <td>...</td>\n",
       "      <td>0.0306</td>\n",
       "      <td>2.576731</td>\n",
       "      <td>2.295</td>\n",
       "      <td>1.330</td>\n",
       "      <td>5.67</td>\n",
       "      <td>78.536538</td>\n",
       "      <td>77.45</td>\n",
       "      <td>74.4</td>\n",
       "      <td>87.6</td>\n",
       "      <td>0</td>\n",
       "    </tr>\n",
       "  </tbody>\n",
       "</table>\n",
       "<p>121838 rows × 43 columns</p>\n",
       "</div>"
      ],
      "text/plain": [
       "                Gene ID    Transcript ID  Position Nucleotide 1 Nucleotide 2  \\\n",
       "0       ENSG00000004059  ENST00000000233       244        AAGAC        AGACC   \n",
       "1       ENSG00000004059  ENST00000000233       261        CAAAC        AAACT   \n",
       "2       ENSG00000004059  ENST00000000233       316        GAAAC        AAACA   \n",
       "3       ENSG00000004059  ENST00000000233       332        AGAAC        GAACA   \n",
       "4       ENSG00000004059  ENST00000000233       368        AGGAC        GGACA   \n",
       "...                 ...              ...       ...          ...          ...   \n",
       "121833  ENSG00000167747  ENST00000641834      1348        GGGAC        GGACA   \n",
       "121834  ENSG00000167747  ENST00000641834      1429        CTGAC        TGACA   \n",
       "121835  ENSG00000167747  ENST00000641834      1531        TGGAC        GGACA   \n",
       "121836  ENSG00000167747  ENST00000641834      1537        CTGAC        TGACC   \n",
       "121837  ENSG00000167747  ENST00000641834      1693        TTGAC        TGACA   \n",
       "\n",
       "       Nucleotide 3  N1 Length Avg  N1 Length Median  N1 Length Min  \\\n",
       "0             GACCA       0.008264           0.00697        0.00199   \n",
       "1             AACTG       0.006609           0.00564        0.00199   \n",
       "2             AACAG       0.007570           0.00631        0.00232   \n",
       "3             AACAT       0.010620           0.00902        0.00232   \n",
       "4             GACAA       0.010701           0.00896        0.00199   \n",
       "...             ...            ...               ...            ...   \n",
       "121833        GACAT       0.009594           0.00817        0.00232   \n",
       "121834        GACAC       0.008393           0.00618        0.00232   \n",
       "121835        GACAC       0.008161           0.00697        0.00232   \n",
       "121836        GACCA       0.008044           0.00660        0.00232   \n",
       "121837        GACAT       0.008788           0.00709        0.00232   \n",
       "\n",
       "        N1 Length Max  ...  N3 Length Max  N3 SD Avg  N3 SD Median  N3 SD Min  \\\n",
       "0              0.0339  ...         0.0329   4.386989         3.440      0.773   \n",
       "1              0.0222  ...         0.0262   3.016599         2.660      0.715   \n",
       "2              0.0299  ...         0.0266   2.087146         1.910      0.630   \n",
       "3              0.0370  ...         0.0214   2.236520         2.135      0.884   \n",
       "4              0.0478  ...         0.0485   4.260253         4.160      1.040   \n",
       "...               ...  ...            ...        ...           ...        ...   \n",
       "121833         0.0432  ...         0.0242   4.005616         3.640      1.030   \n",
       "121834         0.0262  ...         0.0149   3.644638         3.440      1.580   \n",
       "121835         0.0315  ...         0.0260   2.181562         1.925      1.040   \n",
       "121836         0.0483  ...         0.0144   2.540877         2.330      1.190   \n",
       "121837         0.0215  ...         0.0306   2.576731         2.295      1.330   \n",
       "\n",
       "        N3 SD Max  N3 Mean Avg  N3 Mean Median  N3 Mean Min  N3 Mean Max  \\\n",
       "0           15.50    80.570270           80.50         73.1         88.3   \n",
       "1           14.10    94.290698           94.10         88.6        103.0   \n",
       "2            6.85    89.364324           89.20         84.4         96.2   \n",
       "3            6.49    89.154000           89.90         81.4         95.7   \n",
       "4            8.81    85.178788           85.40         77.6         90.5   \n",
       "...           ...          ...             ...          ...          ...   \n",
       "121833      12.50    82.004110           82.10         74.0         92.8   \n",
       "121834       6.50    80.497101           80.60         75.0         90.6   \n",
       "121835       7.19    84.190625           84.50         78.2         88.1   \n",
       "121836       6.50    82.289474           82.00         77.6         87.4   \n",
       "121837       5.67    78.536538           77.45         74.4         87.6   \n",
       "\n",
       "        Label  \n",
       "0           0  \n",
       "1           0  \n",
       "2           0  \n",
       "3           0  \n",
       "4           0  \n",
       "...       ...  \n",
       "121833      1  \n",
       "121834      0  \n",
       "121835      1  \n",
       "121836      0  \n",
       "121837      0  \n",
       "\n",
       "[121838 rows x 43 columns]"
      ]
     },
     "execution_count": 17,
     "metadata": {},
     "output_type": "execute_result"
    }
   ],
   "source": [
    "data"
   ]
  },
  {
   "cell_type": "code",
   "execution_count": 18,
   "metadata": {},
   "outputs": [],
   "source": [
    "X = data.drop(columns=['Label'])\n",
    "y = data['Label']\n",
    "groups = data['Gene ID']\n",
    "\n",
    "gss = GroupShuffleSplit(n_splits=1, test_size=0.3, random_state=21)\n",
    "\n",
    "for train_idx, test_idx in gss.split(X, y, groups):\n",
    "    X_train_split, X_test_split = X.iloc[train_idx], X.iloc[test_idx]\n",
    "    y_train, y_test = y.iloc[train_idx], y.iloc[test_idx]\n",
    "\n",
    "X_train = X_train_split.drop(columns=['Gene ID','Position','Transcript ID','Position', 'Nucleotide 1', 'Nucleotide 2', 'Nucleotide 3'])\n",
    "X_test = X_test_split.drop(columns=['Gene ID','Position','Transcript ID','Position', 'Nucleotide 1', 'Nucleotide 2', 'Nucleotide 3'])"
   ]
  },
  {
   "cell_type": "markdown",
   "metadata": {},
   "source": [
    "Oversampling."
   ]
  },
  {
   "cell_type": "code",
   "execution_count": 19,
   "metadata": {},
   "outputs": [
    {
     "name": "stdout",
     "output_type": "stream",
     "text": [
      "Resampled class distribution: Counter({0: 79775, 1: 79775})\n"
     ]
    }
   ],
   "source": [
    "smote = SMOTE(random_state=21)\n",
    "X_train_resampled, y_train_resampled = smote.fit_resample(X_train, y_train)\n",
    "\n",
    "print(f\"Resampled class distribution: {Counter(y_train_resampled)}\")\n"
   ]
  },
  {
   "cell_type": "markdown",
   "metadata": {},
   "source": [
    "Normalise the features for training."
   ]
  },
  {
   "cell_type": "code",
   "execution_count": 20,
   "metadata": {},
   "outputs": [],
   "source": [
    "scaler = StandardScaler()\n",
    "X_train_scaled = scaler.fit_transform(X_train_resampled)\n",
    "X_test_scaled = scaler.transform(X_test)"
   ]
  },
  {
   "cell_type": "code",
   "execution_count": 21,
   "metadata": {},
   "outputs": [],
   "source": [
    "X_train_scaled = np.array(X_train_scaled)\n",
    "y_train = np.array(y_train_resampled)\n",
    "X_test_scaled = np.array(X_test_scaled)\n",
    "y_test = np.array(y_test)"
   ]
  },
  {
   "cell_type": "markdown",
   "metadata": {},
   "source": [
    "## Model"
   ]
  },
  {
   "cell_type": "code",
   "execution_count": 22,
   "metadata": {},
   "outputs": [
    {
     "name": "stderr",
     "output_type": "stream",
     "text": [
      "/Users/arnoldlek/Desktop/DSA4262/lib/python3.11/site-packages/keras/src/layers/core/dense.py:87: UserWarning: Do not pass an `input_shape`/`input_dim` argument to a layer. When using Sequential models, prefer using an `Input(shape)` object as the first layer in the model instead.\n",
      "  super().__init__(activity_regularizer=activity_regularizer, **kwargs)\n"
     ]
    }
   ],
   "source": [
    "model = Sequential()\n",
    "\n",
    "# Input layer with 128 units and ReLU activation\n",
    "model.add(Dense(128, input_dim=X_train_resampled.shape[1], activation='relu'))\n",
    "model.add(Dropout(0.3))\n",
    "\n",
    "# Hidden layer 1 with 64 units\n",
    "model.add(Dense(64, activation='relu'))\n",
    "model.add(Dropout(0.3))\n",
    "\n",
    "# Hidden layer 2 with 32 units\n",
    "model.add(Dense(32, activation='relu'))\n",
    "\n",
    "# Hidden layer 3 with 16 units\n",
    "model.add(Dense(16, activation='relu'))\n",
    "\n",
    "# Output layer (binary classification, so use sigmoid)\n",
    "model.add(Dense(1, activation='sigmoid'))"
   ]
  },
  {
   "cell_type": "code",
   "execution_count": 23,
   "metadata": {},
   "outputs": [
    {
     "name": "stdout",
     "output_type": "stream",
     "text": [
      "Input shape: 36\n"
     ]
    }
   ],
   "source": [
    "input_shape = X_train_resampled.shape[1]\n",
    "print(f\"Input shape: {input_shape}\")"
   ]
  },
  {
   "cell_type": "markdown",
   "metadata": {},
   "source": [
    "### Compiling"
   ]
  },
  {
   "cell_type": "code",
   "execution_count": 24,
   "metadata": {},
   "outputs": [],
   "source": [
    "model.compile(optimizer=Adam(learning_rate=0.0001), loss='binary_crossentropy', metrics=['accuracy', 'precision', 'recall', 'auc'])\n",
    "\n",
    "# Early stopping to prevent overfitting\n",
    "early_stopping = EarlyStopping(monitor='val_auc', patience=10, restore_best_weights=True)\n"
   ]
  },
  {
   "cell_type": "markdown",
   "metadata": {},
   "source": [
    "### Training"
   ]
  },
  {
   "cell_type": "code",
   "execution_count": 25,
   "metadata": {},
   "outputs": [
    {
     "name": "stdout",
     "output_type": "stream",
     "text": [
      "Epoch 1/50\n",
      "\u001b[1m4986/4986\u001b[0m \u001b[32m━━━━━━━━━━━━━━━━━━━━\u001b[0m\u001b[37m\u001b[0m \u001b[1m4s\u001b[0m 695us/step - accuracy: 0.6795 - auc: 0.7564 - loss: 0.5824 - precision: 0.6970 - recall: 0.6236 - val_accuracy: 0.7911 - val_auc: 0.8357 - val_loss: 0.4598 - val_precision: 0.1396 - val_recall: 0.7123\n",
      "Epoch 2/50\n",
      "\u001b[1m4986/4986\u001b[0m \u001b[32m━━━━━━━━━━━━━━━━━━━━\u001b[0m\u001b[37m\u001b[0m \u001b[1m3s\u001b[0m 670us/step - accuracy: 0.7833 - auc: 0.8637 - loss: 0.4625 - precision: 0.7874 - recall: 0.7744 - val_accuracy: 0.7633 - val_auc: 0.8461 - val_loss: 0.4973 - val_precision: 0.1313 - val_recall: 0.7661\n",
      "Epoch 3/50\n",
      "\u001b[1m4986/4986\u001b[0m \u001b[32m━━━━━━━━━━━━━━━━━━━━\u001b[0m\u001b[37m\u001b[0m \u001b[1m3s\u001b[0m 664us/step - accuracy: 0.8015 - auc: 0.8824 - loss: 0.4321 - precision: 0.8031 - recall: 0.7958 - val_accuracy: 0.7572 - val_auc: 0.8535 - val_loss: 0.5025 - val_precision: 0.1303 - val_recall: 0.7825\n",
      "Epoch 4/50\n",
      "\u001b[1m4986/4986\u001b[0m \u001b[32m━━━━━━━━━━━━━━━━━━━━\u001b[0m\u001b[37m\u001b[0m \u001b[1m3s\u001b[0m 680us/step - accuracy: 0.8138 - auc: 0.8954 - loss: 0.4093 - precision: 0.8177 - recall: 0.8096 - val_accuracy: 0.7630 - val_auc: 0.8563 - val_loss: 0.5015 - val_precision: 0.1338 - val_recall: 0.7865\n",
      "Epoch 5/50\n",
      "\u001b[1m4986/4986\u001b[0m \u001b[32m━━━━━━━━━━━━━━━━━━━━\u001b[0m\u001b[37m\u001b[0m \u001b[1m3s\u001b[0m 648us/step - accuracy: 0.8213 - auc: 0.9023 - loss: 0.3960 - precision: 0.8249 - recall: 0.8165 - val_accuracy: 0.7829 - val_auc: 0.8621 - val_loss: 0.4790 - val_precision: 0.1436 - val_recall: 0.7778\n",
      "Epoch 6/50\n",
      "\u001b[1m4986/4986\u001b[0m \u001b[32m━━━━━━━━━━━━━━━━━━━━\u001b[0m\u001b[37m\u001b[0m \u001b[1m3s\u001b[0m 633us/step - accuracy: 0.8277 - auc: 0.9081 - loss: 0.3847 - precision: 0.8320 - recall: 0.8223 - val_accuracy: 0.7707 - val_auc: 0.8629 - val_loss: 0.4911 - val_precision: 0.1381 - val_recall: 0.7895\n",
      "Epoch 7/50\n",
      "\u001b[1m4986/4986\u001b[0m \u001b[32m━━━━━━━━━━━━━━━━━━━━\u001b[0m\u001b[37m\u001b[0m \u001b[1m3s\u001b[0m 647us/step - accuracy: 0.8332 - auc: 0.9134 - loss: 0.3741 - precision: 0.8360 - recall: 0.8282 - val_accuracy: 0.7893 - val_auc: 0.8642 - val_loss: 0.4669 - val_precision: 0.1471 - val_recall: 0.7749\n",
      "Epoch 8/50\n",
      "\u001b[1m4986/4986\u001b[0m \u001b[32m━━━━━━━━━━━━━━━━━━━━\u001b[0m\u001b[37m\u001b[0m \u001b[1m3s\u001b[0m 650us/step - accuracy: 0.8372 - auc: 0.9162 - loss: 0.3680 - precision: 0.8409 - recall: 0.8324 - val_accuracy: 0.7950 - val_auc: 0.8650 - val_loss: 0.4615 - val_precision: 0.1503 - val_recall: 0.7719\n",
      "Epoch 9/50\n",
      "\u001b[1m4986/4986\u001b[0m \u001b[32m━━━━━━━━━━━━━━━━━━━━\u001b[0m\u001b[37m\u001b[0m \u001b[1m3s\u001b[0m 680us/step - accuracy: 0.8435 - auc: 0.9224 - loss: 0.3548 - precision: 0.8470 - recall: 0.8392 - val_accuracy: 0.8020 - val_auc: 0.8651 - val_loss: 0.4473 - val_precision: 0.1546 - val_recall: 0.7684\n",
      "Epoch 10/50\n",
      "\u001b[1m4986/4986\u001b[0m \u001b[32m━━━━━━━━━━━━━━━━━━━━\u001b[0m\u001b[37m\u001b[0m \u001b[1m3s\u001b[0m 614us/step - accuracy: 0.8467 - auc: 0.9242 - loss: 0.3507 - precision: 0.8474 - recall: 0.8445 - val_accuracy: 0.7762 - val_auc: 0.8659 - val_loss: 0.4985 - val_precision: 0.1419 - val_recall: 0.7947\n",
      "Epoch 11/50\n",
      "\u001b[1m4986/4986\u001b[0m \u001b[32m━━━━━━━━━━━━━━━━━━━━\u001b[0m\u001b[37m\u001b[0m \u001b[1m3s\u001b[0m 632us/step - accuracy: 0.8513 - auc: 0.9273 - loss: 0.3439 - precision: 0.8509 - recall: 0.8496 - val_accuracy: 0.8015 - val_auc: 0.8679 - val_loss: 0.4455 - val_precision: 0.1540 - val_recall: 0.7673\n",
      "Epoch 12/50\n",
      "\u001b[1m4986/4986\u001b[0m \u001b[32m━━━━━━━━━━━━━━━━━━━━\u001b[0m\u001b[37m\u001b[0m \u001b[1m3s\u001b[0m 636us/step - accuracy: 0.8543 - auc: 0.9303 - loss: 0.3369 - precision: 0.8541 - recall: 0.8564 - val_accuracy: 0.8131 - val_auc: 0.8697 - val_loss: 0.4269 - val_precision: 0.1615 - val_recall: 0.7602\n",
      "Epoch 13/50\n",
      "\u001b[1m4986/4986\u001b[0m \u001b[32m━━━━━━━━━━━━━━━━━━━━\u001b[0m\u001b[37m\u001b[0m \u001b[1m3s\u001b[0m 627us/step - accuracy: 0.8579 - auc: 0.9325 - loss: 0.3317 - precision: 0.8558 - recall: 0.8598 - val_accuracy: 0.8168 - val_auc: 0.8674 - val_loss: 0.4161 - val_precision: 0.1637 - val_recall: 0.7550\n",
      "Epoch 14/50\n",
      "\u001b[1m4986/4986\u001b[0m \u001b[32m━━━━━━━━━━━━━━━━━━━━\u001b[0m\u001b[37m\u001b[0m \u001b[1m3s\u001b[0m 638us/step - accuracy: 0.8607 - auc: 0.9345 - loss: 0.3265 - precision: 0.8580 - recall: 0.8639 - val_accuracy: 0.8105 - val_auc: 0.8675 - val_loss: 0.4268 - val_precision: 0.1598 - val_recall: 0.7620\n",
      "Epoch 15/50\n",
      "\u001b[1m4986/4986\u001b[0m \u001b[32m━━━━━━━━━━━━━━━━━━━━\u001b[0m\u001b[37m\u001b[0m \u001b[1m3s\u001b[0m 633us/step - accuracy: 0.8629 - auc: 0.9365 - loss: 0.3217 - precision: 0.8600 - recall: 0.8686 - val_accuracy: 0.8230 - val_auc: 0.8679 - val_loss: 0.4012 - val_precision: 0.1682 - val_recall: 0.7509\n",
      "Epoch 16/50\n",
      "\u001b[1m4986/4986\u001b[0m \u001b[32m━━━━━━━━━━━━━━━━━━━━\u001b[0m\u001b[37m\u001b[0m \u001b[1m3s\u001b[0m 627us/step - accuracy: 0.8640 - auc: 0.9383 - loss: 0.3170 - precision: 0.8597 - recall: 0.8698 - val_accuracy: 0.8292 - val_auc: 0.8651 - val_loss: 0.3880 - val_precision: 0.1715 - val_recall: 0.7374\n",
      "Epoch 17/50\n",
      "\u001b[1m4986/4986\u001b[0m \u001b[32m━━━━━━━━━━━━━━━━━━━━\u001b[0m\u001b[37m\u001b[0m \u001b[1m3s\u001b[0m 613us/step - accuracy: 0.8659 - auc: 0.9395 - loss: 0.3140 - precision: 0.8604 - recall: 0.8735 - val_accuracy: 0.8010 - val_auc: 0.8662 - val_loss: 0.4381 - val_precision: 0.1541 - val_recall: 0.7702\n",
      "Epoch 18/50\n",
      "\u001b[1m4986/4986\u001b[0m \u001b[32m━━━━━━━━━━━━━━━━━━━━\u001b[0m\u001b[37m\u001b[0m \u001b[1m3s\u001b[0m 607us/step - accuracy: 0.8696 - auc: 0.9417 - loss: 0.3080 - precision: 0.8643 - recall: 0.8784 - val_accuracy: 0.8265 - val_auc: 0.8674 - val_loss: 0.3921 - val_precision: 0.1701 - val_recall: 0.7439\n",
      "Epoch 19/50\n",
      "\u001b[1m4986/4986\u001b[0m \u001b[32m━━━━━━━━━━━━━━━━━━━━\u001b[0m\u001b[37m\u001b[0m \u001b[1m3s\u001b[0m 618us/step - accuracy: 0.8702 - auc: 0.9428 - loss: 0.3051 - precision: 0.8640 - recall: 0.8775 - val_accuracy: 0.8144 - val_auc: 0.8668 - val_loss: 0.4146 - val_precision: 0.1623 - val_recall: 0.7591\n",
      "Epoch 20/50\n",
      "\u001b[1m4986/4986\u001b[0m \u001b[32m━━━━━━━━━━━━━━━━━━━━\u001b[0m\u001b[37m\u001b[0m \u001b[1m3s\u001b[0m 618us/step - accuracy: 0.8720 - auc: 0.9441 - loss: 0.3014 - precision: 0.8660 - recall: 0.8809 - val_accuracy: 0.8149 - val_auc: 0.8671 - val_loss: 0.4059 - val_precision: 0.1625 - val_recall: 0.7573\n",
      "Epoch 21/50\n",
      "\u001b[1m4986/4986\u001b[0m \u001b[32m━━━━━━━━━━━━━━━━━━━━\u001b[0m\u001b[37m\u001b[0m \u001b[1m3s\u001b[0m 606us/step - accuracy: 0.8738 - auc: 0.9458 - loss: 0.2967 - precision: 0.8662 - recall: 0.8845 - val_accuracy: 0.8292 - val_auc: 0.8679 - val_loss: 0.3883 - val_precision: 0.1727 - val_recall: 0.7450\n",
      "Epoch 22/50\n",
      "\u001b[1m4986/4986\u001b[0m \u001b[32m━━━━━━━━━━━━━━━━━━━━\u001b[0m\u001b[37m\u001b[0m \u001b[1m3s\u001b[0m 661us/step - accuracy: 0.8753 - auc: 0.9463 - loss: 0.2948 - precision: 0.8679 - recall: 0.8860 - val_accuracy: 0.8190 - val_auc: 0.8673 - val_loss: 0.3973 - val_precision: 0.1650 - val_recall: 0.7520\n"
     ]
    }
   ],
   "source": [
    "history = model.fit(X_train_scaled, y_train, \n",
    "    validation_data=(X_test_scaled, y_test), \n",
    "    epochs=50, \n",
    "    batch_size=32, \n",
    "    callbacks=[early_stopping])"
   ]
  },
  {
   "cell_type": "code",
   "execution_count": 26,
   "metadata": {},
   "outputs": [
    {
     "name": "stdout",
     "output_type": "stream",
     "text": [
      "\u001b[1m1197/1197\u001b[0m \u001b[32m━━━━━━━━━━━━━━━━━━━━\u001b[0m\u001b[37m\u001b[0m \u001b[1m0s\u001b[0m 321us/step\n",
      "AUC Score: 0.8697\n"
     ]
    },
    {
     "data": {
      "image/png": "[encoded data removed]",
      "text/plain": [
       "<Figure size 640x480 with 1 Axes>"
      ]
     },
     "metadata": {},
     "output_type": "display_data"
    },
    {
     "data": {
      "image/png": "[encoded data removed]",
      "text/plain": [
       "<Figure size 800x600 with 1 Axes>"
      ]
     },
     "metadata": {},
     "output_type": "display_data"
    },
    {
     "data": {
      "text/plain": [
       "Text(0.5, 1.0, 'Confusion Matrix for QDA')"
      ]
     },
     "execution_count": 26,
     "metadata": {},
     "output_type": "execute_result"
    },
    {
     "data": {
      "image/png": "[encoded data removed]",
      "text/plain": [
       "<Figure size 640x480 with 2 Axes>"
      ]
     },
     "metadata": {},
     "output_type": "display_data"
    }
   ],
   "source": [
    "# Predict probabilities for the test set\n",
    "y_pred_proba = model.predict(X_test_scaled)\n",
    "\n",
    "# Calculate ROC curve\n",
    "fpr, tpr, thresholds = roc_curve(y_test, y_pred_proba)\n",
    "auc_score = roc_auc_score(y_test, y_pred_proba)\n",
    "print(f\"AUC Score: {auc_score:.4f}\")\n",
    "\n",
    "# Plot the ROC curve\n",
    "plt.plot(fpr, tpr, label=f\"ROC curve (AUC = {auc_score:.2f})\")\n",
    "plt.plot([0, 1], [0, 1], 'k--')\n",
    "plt.xlabel('False Positive Rate')\n",
    "plt.ylabel('True Positive Rate')\n",
    "plt.title('ROC Curve')\n",
    "plt.legend(loc=\"lower right\")\n",
    "plt.show()\n",
    "\n",
    "# PR-AUC\n",
    "precision, recall, thresholds = precision_recall_curve(y_test, y_pred_proba)\n",
    "\n",
    "# Compute the AUC for the precision-recall curve\n",
    "pr_auc = auc(recall, precision)\n",
    "\n",
    "# Plot the Precision-Recall curve\n",
    "plt.figure(figsize=(8, 6))\n",
    "plt.plot(recall, precision, label=f'Precision-Recall AUC = {pr_auc:.2f}')\n",
    "plt.xlabel('Recall')\n",
    "plt.ylabel('Precision')\n",
    "plt.title('Precision-Recall Curve')\n",
    "plt.legend(loc='best')\n",
    "plt.grid()\n",
    "plt.show()\n",
    "\n",
    "# Confusion matrix\n",
    "y_pred_class = (y_pred_proba > 0.5).astype(int)  # Convert probabilities to class labels\n",
    "cm = confusion_matrix(y_test, y_pred_class)\n",
    "\n",
    "disp = ConfusionMatrixDisplay(confusion_matrix=cm)\n",
    "\n",
    "disp.plot()\n",
    "plt.title('Confusion Matrix for QDA')"
   ]
  },
  {
   "cell_type": "markdown",
   "metadata": {},
   "source": [
    "## Predictions"
   ]
  },
  {
   "cell_type": "markdown",
   "metadata": {},
   "source": [
    "`dataset0.json`"
   ]
  },
  {
   "cell_type": "code",
   "execution_count": 33,
   "metadata": {},
   "outputs": [
    {
     "name": "stdout",
     "output_type": "stream",
     "text": [
      "\u001b[1m1197/1197\u001b[0m \u001b[32m━━━━━━━━━━━━━━━━━━━━\u001b[0m\u001b[37m\u001b[0m \u001b[1m0s\u001b[0m 285us/step\n"
     ]
    }
   ],
   "source": [
    "y_probs = model.predict(X_test_scaled)\n",
    "\n",
    "results_df = X_test_split[['Transcript ID', 'Position']].copy()\n",
    "results_df['Score'] = y_probs\n"
   ]
  },
  {
   "cell_type": "code",
   "execution_count": 32,
   "metadata": {},
   "outputs": [
    {
     "data": {
      "text/html": [
       "<div>\n",
       "<style scoped>\n",
       "    .dataframe tbody tr th:only-of-type {\n",
       "        vertical-align: middle;\n",
       "    }\n",
       "\n",
       "    .dataframe tbody tr th {\n",
       "        vertical-align: top;\n",
       "    }\n",
       "\n",
       "    .dataframe thead th {\n",
       "        text-align: right;\n",
       "    }\n",
       "</style>\n",
       "<table border=\"1\" class=\"dataframe\">\n",
       "  <thead>\n",
       "    <tr style=\"text-align: right;\">\n",
       "      <th></th>\n",
       "      <th>Gene ID</th>\n",
       "      <th>Transcript ID</th>\n",
       "      <th>Position</th>\n",
       "      <th>Score</th>\n",
       "    </tr>\n",
       "  </thead>\n",
       "  <tbody>\n",
       "    <tr>\n",
       "      <th>0</th>\n",
       "      <td>ENSG00000004059</td>\n",
       "      <td>ENST00000000233</td>\n",
       "      <td>244</td>\n",
       "      <td>0.205777</td>\n",
       "    </tr>\n",
       "    <tr>\n",
       "      <th>1</th>\n",
       "      <td>ENSG00000004059</td>\n",
       "      <td>ENST00000000233</td>\n",
       "      <td>261</td>\n",
       "      <td>0.571200</td>\n",
       "    </tr>\n",
       "    <tr>\n",
       "      <th>2</th>\n",
       "      <td>ENSG00000004059</td>\n",
       "      <td>ENST00000000233</td>\n",
       "      <td>316</td>\n",
       "      <td>0.191779</td>\n",
       "    </tr>\n",
       "    <tr>\n",
       "      <th>3</th>\n",
       "      <td>ENSG00000004059</td>\n",
       "      <td>ENST00000000233</td>\n",
       "      <td>332</td>\n",
       "      <td>0.365488</td>\n",
       "    </tr>\n",
       "    <tr>\n",
       "      <th>4</th>\n",
       "      <td>ENSG00000004059</td>\n",
       "      <td>ENST00000000233</td>\n",
       "      <td>368</td>\n",
       "      <td>0.167745</td>\n",
       "    </tr>\n",
       "    <tr>\n",
       "      <th>...</th>\n",
       "      <td>...</td>\n",
       "      <td>...</td>\n",
       "      <td>...</td>\n",
       "      <td>...</td>\n",
       "    </tr>\n",
       "    <tr>\n",
       "      <th>121732</th>\n",
       "      <td>ENSG00000092621</td>\n",
       "      <td>ENST00000641375</td>\n",
       "      <td>1523</td>\n",
       "      <td>0.368055</td>\n",
       "    </tr>\n",
       "    <tr>\n",
       "      <th>121733</th>\n",
       "      <td>ENSG00000092621</td>\n",
       "      <td>ENST00000641375</td>\n",
       "      <td>1586</td>\n",
       "      <td>0.363753</td>\n",
       "    </tr>\n",
       "    <tr>\n",
       "      <th>121734</th>\n",
       "      <td>ENSG00000092621</td>\n",
       "      <td>ENST00000641375</td>\n",
       "      <td>1996</td>\n",
       "      <td>0.132859</td>\n",
       "    </tr>\n",
       "    <tr>\n",
       "      <th>121735</th>\n",
       "      <td>ENSG00000092621</td>\n",
       "      <td>ENST00000641375</td>\n",
       "      <td>2022</td>\n",
       "      <td>0.002228</td>\n",
       "    </tr>\n",
       "    <tr>\n",
       "      <th>121736</th>\n",
       "      <td>ENSG00000092621</td>\n",
       "      <td>ENST00000641375</td>\n",
       "      <td>2171</td>\n",
       "      <td>0.002468</td>\n",
       "    </tr>\n",
       "  </tbody>\n",
       "</table>\n",
       "<p>38298 rows × 4 columns</p>\n",
       "</div>"
      ],
      "text/plain": [
       "                Gene ID    Transcript ID  Position     Score\n",
       "0       ENSG00000004059  ENST00000000233       244  0.205777\n",
       "1       ENSG00000004059  ENST00000000233       261  0.571200\n",
       "2       ENSG00000004059  ENST00000000233       316  0.191779\n",
       "3       ENSG00000004059  ENST00000000233       332  0.365488\n",
       "4       ENSG00000004059  ENST00000000233       368  0.167745\n",
       "...                 ...              ...       ...       ...\n",
       "121732  ENSG00000092621  ENST00000641375      1523  0.368055\n",
       "121733  ENSG00000092621  ENST00000641375      1586  0.363753\n",
       "121734  ENSG00000092621  ENST00000641375      1996  0.132859\n",
       "121735  ENSG00000092621  ENST00000641375      2022  0.002228\n",
       "121736  ENSG00000092621  ENST00000641375      2171  0.002468\n",
       "\n",
       "[38298 rows x 4 columns]"
      ]
     },
     "execution_count": 32,
     "metadata": {},
     "output_type": "execute_result"
    }
   ],
   "source": [
    "results_df"
   ]
  },
  {
   "cell_type": "markdown",
   "metadata": {},
   "source": [
    "`dataset1.json`"
   ]
  },
  {
   "cell_type": "code",
   "execution_count": null,
   "metadata": {},
   "outputs": [],
   "source": []
  },
  {
   "cell_type": "markdown",
   "metadata": {},
   "source": [
    "`dataset2.json`"
   ]
  },
  {
   "cell_type": "code",
   "execution_count": null,
   "metadata": {},
   "outputs": [],
   "source": []
  }
 ],
 "metadata": {
  "kernelspec": {
   "display_name": "DSA4262",
   "language": "python",
   "name": "python3"
  },
  "language_info": {
   "codemirror_mode": {
    "name": "ipython",
    "version": 3
   },
   "file_extension": ".py",
   "mimetype": "text/x-python",
   "name": "python",
   "nbconvert_exporter": "python",
   "pygments_lexer": "ipython3",
   "version": "3.11.4"
  }
 },
 "nbformat": 4,
 "nbformat_minor": 2
}
